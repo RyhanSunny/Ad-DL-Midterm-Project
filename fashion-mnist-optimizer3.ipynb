{
 "cells": [
  {
   "cell_type": "code",
   "execution_count": 1,
   "metadata": {},
   "outputs": [],
   "source": [
    "import importlib\n",
    "import fashionmnist_model as fmm\n",
    "from tensorflow.keras.optimizers import Adam, Adagrad, RMSprop, Adadelta, Nadam, Ftrl\n",
    "import matplotlib.pyplot as plt\n",
    "importlib.reload(fmm)"
   ]
  },
  {
   "cell_type": "code",
   "execution_count": 2,
   "metadata": {},
   "outputs": [],
   "source": [
    "# Load and preprocess the data\n",
    "X_train, y_train, X_test, y_test = fmm.load_data()"
   ]
  },
  {
   "cell_type": "code",
   "execution_count": null,
   "metadata": {},
   "outputs": [],
   "source": [
    "# Reshape the data\n",
    "x_train_reshape, x_test_reshape = fmm.reshape_data(X_train, X_test)"
   ]
  },
  {
   "cell_type": "code",
   "execution_count": null,
   "metadata": {},
   "outputs": [],
   "source": [
    "# Create and compile the model with different optimizers\n",
    "# optimizers to use: Adagrad, Adadelta, RMSprop, Adam, Nadam, Ftrl\n",
    "optimizers = [Adagrad()]\n",
    "for optimizer in optimizers:\n",
    "    model = fmm.create_model()\n",
    "    print(f\"Training with {optimizer.__class__.__name__} optimizer...\")\n",
    "    history = fmm.compile_and_train(model, X_train, y_train, X_test, y_test, optimizer, validation_split=0.2)\n",
    "    \n",
    "    # Plot training and validation loss\n",
    "    plt.plot(history.history['loss'], label='Training loss')\n",
    "    plt.plot(history.history['val_loss'], label='Validation loss')\n",
    "    plt.title(f'Training and Validation Loss ({optimizer.__class__.__name__})')\n",
    "    plt.xlabel('Epochs')\n",
    "    plt.ylabel('Loss')\n",
    "    plt.legend()\n",
    "    plt.show()\n",
    "    \n",
    "    print('-' * 50)"
   ]
  },
  {
   "cell_type": "code",
   "execution_count": null,
   "metadata": {},
   "outputs": [],
   "source": []
  }
 ],
 "metadata": {
  "kernelspec": {
   "display_name": "Python 3 (ipykernel)",
   "language": "python",
   "name": "python3"
  },
  "language_info": {
   "codemirror_mode": {
    "name": "ipython",
    "version": 3
   },
   "file_extension": ".py",
   "mimetype": "text/x-python",
   "name": "python",
   "nbconvert_exporter": "python",
   "pygments_lexer": "ipython3",
   "version": "3.11.4"
  }
 },
 "nbformat": 4,
 "nbformat_minor": 2
}
