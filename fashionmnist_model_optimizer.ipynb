{
 "cells": [
  {
   "cell_type": "markdown",
   "metadata": {
    "id": "0BL-NITwDKZi"
   },
   "source": [
    "## Implementation using TensorFlow on fashion minst dataset."
   ]
  },
  {
   "cell_type": "code",
   "execution_count": null,
   "metadata": {},
   "outputs": [],
   "source": [
    "! pip install -U \"ray[data,train,tune,serve]\""
   ]
  },
  {
   "cell_type": "code",
   "execution_count": 2,
   "metadata": {
    "id": "q7jewJ3bDKZi"
   },
   "outputs": [],
   "source": [
    "import ray\n",
    "from ray import tune, train\n",
    "from ray.tune import grid_search\n",
    "import tensorflow as tf\n",
    "from tensorflow.keras.datasets import fashion_mnist"
   ]
  },
  {
   "cell_type": "code",
   "execution_count": 4,
   "metadata": {},
   "outputs": [
    {
     "name": "stderr",
     "output_type": "stream",
     "text": [
      "2024-02-21 10:01:44,790\tINFO worker.py:1715 -- Started a local Ray instance. View the dashboard at \u001b[1m\u001b[32mhttp://127.0.0.1:8266 \u001b[39m\u001b[22m\n"
     ]
    },
    {
     "data": {
      "application/vnd.jupyter.widget-view+json": {
       "model_id": "e4b1e32585654236b278e01b63859adb",
       "version_major": 2,
       "version_minor": 0
      },
      "text/html": [
       "<div class=\"lm-Widget p-Widget lm-Panel p-Panel jp-Cell-outputWrapper\">\n",
       "    <div style=\"margin-left: 50px;display: flex;flex-direction: row;align-items: center\">\n",
       "        <div class=\"jp-RenderedHTMLCommon\" style=\"display: flex; flex-direction: row;\">\n",
       "  <svg viewBox=\"0 0 567 224\" fill=\"none\" xmlns=\"http://www.w3.org/2000/svg\" style=\"height: 3em;\">\n",
       "    <g clip-path=\"url(#clip0_4338_178347)\">\n",
       "        <path d=\"M341.29 165.561H355.29L330.13 129.051C345.63 123.991 354.21 112.051 354.21 94.2307C354.21 71.3707 338.72 58.1807 311.88 58.1807H271V165.561H283.27V131.661H311.8C314.25 131.661 316.71 131.501 319.01 131.351L341.25 165.561H341.29ZM283.29 119.851V70.0007H311.82C331.3 70.0007 342.34 78.2907 342.34 94.5507C342.34 111.271 331.34 119.861 311.82 119.861L283.29 119.851ZM451.4 138.411L463.4 165.561H476.74L428.74 58.1807H416L367.83 165.561H380.83L392.83 138.411H451.4ZM446.19 126.601H398L422 72.1407L446.24 126.601H446.19ZM526.11 128.741L566.91 58.1807H554.35L519.99 114.181L485.17 58.1807H472.44L514.01 129.181V165.541H526.13V128.741H526.11Z\" fill=\"var(--jp-ui-font-color0)\"/>\n",
       "        <path d=\"M82.35 104.44C84.0187 97.8827 87.8248 92.0678 93.1671 87.9146C98.5094 83.7614 105.083 81.5067 111.85 81.5067C118.617 81.5067 125.191 83.7614 130.533 87.9146C135.875 92.0678 139.681 97.8827 141.35 104.44H163.75C164.476 101.562 165.622 98.8057 167.15 96.2605L127.45 56.5605C121.071 60.3522 113.526 61.6823 106.235 60.3005C98.9443 58.9187 92.4094 54.9203 87.8602 49.0574C83.3109 43.1946 81.0609 35.8714 81.5332 28.4656C82.0056 21.0599 85.1679 14.0819 90.4252 8.8446C95.6824 3.60726 102.672 0.471508 110.08 0.0272655C117.487 -0.416977 124.802 1.86091 130.647 6.4324C136.493 11.0039 140.467 17.5539 141.821 24.8501C143.175 32.1463 141.816 39.6859 138 46.0505L177.69 85.7505C182.31 82.9877 187.58 81.4995 192.962 81.4375C198.345 81.3755 203.648 82.742 208.33 85.3976C213.012 88.0532 216.907 91.9029 219.616 96.5544C222.326 101.206 223.753 106.492 223.753 111.875C223.753 117.258 222.326 122.545 219.616 127.197C216.907 131.848 213.012 135.698 208.33 138.353C203.648 141.009 198.345 142.375 192.962 142.313C187.58 142.251 182.31 140.763 177.69 138L138 177.7C141.808 184.071 143.155 191.614 141.79 198.91C140.424 206.205 136.44 212.75 130.585 217.313C124.731 221.875 117.412 224.141 110.004 223.683C102.596 223.226 95.6103 220.077 90.3621 214.828C85.1139 209.58 81.9647 202.595 81.5072 195.187C81.0497 187.779 83.3154 180.459 87.878 174.605C92.4405 168.751 98.9853 164.766 106.281 163.401C113.576 162.035 121.119 163.383 127.49 167.19L167.19 127.49C165.664 124.941 164.518 122.182 163.79 119.3H141.39C139.721 125.858 135.915 131.673 130.573 135.826C125.231 139.98 118.657 142.234 111.89 142.234C105.123 142.234 98.5494 139.98 93.2071 135.826C87.8648 131.673 84.0587 125.858 82.39 119.3H60C58.1878 126.495 53.8086 132.78 47.6863 136.971C41.5641 141.163 34.1211 142.972 26.7579 142.059C19.3947 141.146 12.6191 137.574 7.70605 132.014C2.79302 126.454 0.0813599 119.29 0.0813599 111.87C0.0813599 104.451 2.79302 97.2871 7.70605 91.7272C12.6191 86.1673 19.3947 82.5947 26.7579 81.6817C34.1211 80.7686 41.5641 82.5781 47.6863 86.7696C53.8086 90.9611 58.1878 97.2456 60 104.44H82.35ZM100.86 204.32C103.407 206.868 106.759 208.453 110.345 208.806C113.93 209.159 117.527 208.258 120.522 206.256C123.517 204.254 125.725 201.276 126.771 197.828C127.816 194.38 127.633 190.677 126.253 187.349C124.874 184.021 122.383 181.274 119.205 179.577C116.027 177.88 112.359 177.337 108.826 178.042C105.293 178.746 102.113 180.654 99.8291 183.44C97.5451 186.226 96.2979 189.718 96.3 193.32C96.2985 195.364 96.7006 197.388 97.4831 199.275C98.2656 201.163 99.4132 202.877 100.86 204.32ZM204.32 122.88C206.868 120.333 208.453 116.981 208.806 113.396C209.159 109.811 208.258 106.214 206.256 103.219C204.254 100.223 201.275 98.0151 197.827 96.97C194.38 95.9249 190.676 96.1077 187.348 97.4873C184.02 98.8669 181.274 101.358 179.577 104.536C177.879 107.714 177.337 111.382 178.041 114.915C178.746 118.448 180.653 121.627 183.439 123.911C186.226 126.195 189.717 127.443 193.32 127.44C195.364 127.443 197.388 127.042 199.275 126.259C201.163 125.476 202.878 124.328 204.32 122.88ZM122.88 19.4205C120.333 16.8729 116.981 15.2876 113.395 14.9347C109.81 14.5817 106.213 15.483 103.218 17.4849C100.223 19.4868 98.0146 22.4654 96.9696 25.9131C95.9245 29.3608 96.1073 33.0642 97.4869 36.3922C98.8665 39.7202 101.358 42.4668 104.535 44.1639C107.713 45.861 111.381 46.4036 114.914 45.6992C118.447 44.9949 121.627 43.0871 123.911 40.301C126.195 37.515 127.442 34.0231 127.44 30.4205C127.44 28.3772 127.038 26.3539 126.255 24.4664C125.473 22.5788 124.326 20.8642 122.88 19.4205ZM19.42 100.86C16.8725 103.408 15.2872 106.76 14.9342 110.345C14.5813 113.93 15.4826 117.527 17.4844 120.522C19.4863 123.518 22.4649 125.726 25.9127 126.771C29.3604 127.816 33.0638 127.633 36.3918 126.254C39.7198 124.874 42.4664 122.383 44.1635 119.205C45.8606 116.027 46.4032 112.359 45.6988 108.826C44.9944 105.293 43.0866 102.114 40.3006 99.8296C37.5145 97.5455 34.0227 96.2983 30.42 96.3005C26.2938 96.3018 22.337 97.9421 19.42 100.86ZM100.86 100.86C98.3125 103.408 96.7272 106.76 96.3742 110.345C96.0213 113.93 96.9226 117.527 98.9244 120.522C100.926 123.518 103.905 125.726 107.353 126.771C110.8 127.816 114.504 127.633 117.832 126.254C121.16 124.874 123.906 122.383 125.604 119.205C127.301 116.027 127.843 112.359 127.139 108.826C126.434 105.293 124.527 102.114 121.741 99.8296C118.955 97.5455 115.463 96.2983 111.86 96.3005C109.817 96.299 107.793 96.701 105.905 97.4835C104.018 98.2661 102.303 99.4136 100.86 100.86Z\" fill=\"#00AEEF\"/>\n",
       "    </g>\n",
       "    <defs>\n",
       "        <clipPath id=\"clip0_4338_178347\">\n",
       "            <rect width=\"566.93\" height=\"223.75\" fill=\"white\"/>\n",
       "        </clipPath>\n",
       "    </defs>\n",
       "  </svg>\n",
       "</div>\n",
       "\n",
       "        <table class=\"jp-RenderedHTMLCommon\" style=\"border-collapse: collapse;color: var(--jp-ui-font-color1);font-size: var(--jp-ui-font-size1);\">\n",
       "    <tr>\n",
       "        <td style=\"text-align: left\"><b>Python version:</b></td>\n",
       "        <td style=\"text-align: left\"><b>3.11.5</b></td>\n",
       "    </tr>\n",
       "    <tr>\n",
       "        <td style=\"text-align: left\"><b>Ray version:</b></td>\n",
       "        <td style=\"text-align: left\"><b>2.9.2</b></td>\n",
       "    </tr>\n",
       "    <tr>\n",
       "    <td style=\"text-align: left\"><b>Dashboard:</b></td>\n",
       "    <td style=\"text-align: left\"><b><a href=\"http://127.0.0.1:8266\" target=\"_blank\">http://127.0.0.1:8266</a></b></td>\n",
       "</tr>\n",
       "\n",
       "</table>\n",
       "\n",
       "    </div>\n",
       "</div>\n"
      ],
      "text/plain": [
       "RayContext(dashboard_url='127.0.0.1:8266', python_version='3.11.5', ray_version='2.9.2', ray_commit='fce7a361807580953364e2da964f9498f3123bf9', protocol_version=None)"
      ]
     },
     "execution_count": 4,
     "metadata": {},
     "output_type": "execute_result"
    },
    {
     "name": "stderr",
     "output_type": "stream",
     "text": [
      "\u001b[33m(raylet)\u001b[0m [2024-02-21 10:01:54,832 E 72757 222050] (raylet) file_system_monitor.cc:111: /tmp/ray/session_2024-02-21_10-01-42_582128_72639 is over 95% full, available space: 10926469120; capacity: 245107195904. Object creation will fail if spilling is required.\n",
      "\u001b[33m(raylet)\u001b[0m [2024-02-21 10:02:04,931 E 72757 222050] (raylet) file_system_monitor.cc:111: /tmp/ray/session_2024-02-21_10-01-42_582128_72639 is over 95% full, available space: 10926469120; capacity: 245107195904. Object creation will fail if spilling is required.\n",
      "\u001b[33m(raylet)\u001b[0m [2024-02-21 10:02:15,029 E 72757 222050] (raylet) file_system_monitor.cc:111: /tmp/ray/session_2024-02-21_10-01-42_582128_72639 is over 95% full, available space: 10925916160; capacity: 245107195904. Object creation will fail if spilling is required.\n",
      "\u001b[33m(raylet)\u001b[0m [2024-02-21 10:02:25,124 E 72757 222050] (raylet) file_system_monitor.cc:111: /tmp/ray/session_2024-02-21_10-01-42_582128_72639 is over 95% full, available space: 10925928448; capacity: 245107195904. Object creation will fail if spilling is required.\n",
      "\u001b[33m(raylet)\u001b[0m [2024-02-21 10:02:35,217 E 72757 222050] (raylet) file_system_monitor.cc:111: /tmp/ray/session_2024-02-21_10-01-42_582128_72639 is over 95% full, available space: 10925846528; capacity: 245107195904. Object creation will fail if spilling is required.\n",
      "\u001b[33m(raylet)\u001b[0m [2024-02-21 10:02:45,314 E 72757 222050] (raylet) file_system_monitor.cc:111: /tmp/ray/session_2024-02-21_10-01-42_582128_72639 is over 95% full, available space: 10925240320; capacity: 245107195904. Object creation will fail if spilling is required.\n",
      "\u001b[33m(raylet)\u001b[0m [2024-02-21 10:02:55,315 E 72757 222050] (raylet) file_system_monitor.cc:111: /tmp/ray/session_2024-02-21_10-01-42_582128_72639 is over 95% full, available space: 10925248512; capacity: 245107195904. Object creation will fail if spilling is required.\n",
      "\u001b[33m(raylet)\u001b[0m [2024-02-21 10:03:05,411 E 72757 222050] (raylet) file_system_monitor.cc:111: /tmp/ray/session_2024-02-21_10-01-42_582128_72639 is over 95% full, available space: 10925248512; capacity: 245107195904. Object creation will fail if spilling is required.\n",
      "\u001b[33m(raylet)\u001b[0m [2024-02-21 10:03:15,412 E 72757 222050] (raylet) file_system_monitor.cc:111: /tmp/ray/session_2024-02-21_10-01-42_582128_72639 is over 95% full, available space: 10925015040; capacity: 245107195904. Object creation will fail if spilling is required.\n",
      "\u001b[33m(raylet)\u001b[0m [2024-02-21 10:03:25,507 E 72757 222050] (raylet) file_system_monitor.cc:111: /tmp/ray/session_2024-02-21_10-01-42_582128_72639 is over 95% full, available space: 10924683264; capacity: 245107195904. Object creation will fail if spilling is required.\n",
      "\u001b[33m(raylet)\u001b[0m [2024-02-21 10:03:35,509 E 72757 222050] (raylet) file_system_monitor.cc:111: /tmp/ray/session_2024-02-21_10-01-42_582128_72639 is over 95% full, available space: 10924675072; capacity: 245107195904. Object creation will fail if spilling is required.\n",
      "\u001b[33m(raylet)\u001b[0m [2024-02-21 10:03:45,609 E 72757 222050] (raylet) file_system_monitor.cc:111: /tmp/ray/session_2024-02-21_10-01-42_582128_72639 is over 95% full, available space: 10923982848; capacity: 245107195904. Object creation will fail if spilling is required.\n"
     ]
    }
   ],
   "source": [
    "ray.init()"
   ]
  },
  {
   "cell_type": "code",
   "execution_count": 5,
   "metadata": {},
   "outputs": [
    {
     "name": "stderr",
     "output_type": "stream",
     "text": [
      "\u001b[33m(raylet)\u001b[0m [2024-02-21 10:03:55,706 E 72757 222050] (raylet) file_system_monitor.cc:111: /tmp/ray/session_2024-02-21_10-01-42_582128_72639 is over 95% full, available space: 10923442176; capacity: 245107195904. Object creation will fail if spilling is required.\n"
     ]
    }
   ],
   "source": [
    "# Define a function to train the model\n",
    "def train_model(config):\n",
    "    # Load and preprocess the Fashion MNIST dataset\n",
    "    (X_train, y_train), (X_test, y_test) = fashion_mnist.load_data()\n",
    "    X_train, X_test = X_train / 255.0, X_test / 255.0  # Normalize pixel values\n",
    "\n",
    "    # Define a TensorFlow model\n",
    "    model = tf.keras.Sequential(\n",
    "        [\n",
    "            tf.keras.layers.Flatten(input_shape=(28, 28)),\n",
    "            tf.keras.layers.Dense(config[\"units_1\"], activation=\"relu\"),\n",
    "            tf.keras.layers.Dropout(config[\"dropouts_1\"]),\n",
    "            tf.keras.layers.BatchNormalization(),\n",
    "            tf.keras.layers.Dense(config[\"units_2\"], activation=\"relu\"),\n",
    "            tf.keras.layers.Dropout(config[\"dropouts_2\"]),\n",
    "            tf.keras.layers.BatchNormalization(),\n",
    "            tf.keras.layers.Dense(10, activation=\"softmax\"),\n",
    "        ]\n",
    "    )\n",
    "\n",
    "    # Compile the model\n",
    "    optimizer = tf.keras.optimizers.Adam()\n",
    "    model.compile(\n",
    "        optimizer=optimizer,\n",
    "        loss=\"sparse_categorical_crossentropy\",\n",
    "        metrics=[\"accuracy\"],\n",
    "    )\n",
    "\n",
    "    # Train the model\n",
    "    model.fit(X_train, y_train, epochs=5, verbose=0)\n",
    "\n",
    "    # Evaluate the model\n",
    "    _, test_accuracy = model.evaluate(X_test, y_test)\n",
    "    train.report({\"test_accuracy\": test_accuracy})"
   ]
  },
  {
   "cell_type": "code",
   "execution_count": 6,
   "metadata": {},
   "outputs": [],
   "source": [
    "search_space = {\n",
    "    \"units_1\": tune.choice([64, 128, 256]),  # Number of units in the dense layer\n",
    "    \"dropouts_1\": tune.uniform(0.1, 0.5),  # Dropout rate\n",
    "    \"units_2\": tune.choice([64, 128, 256]),  # Number of units in the dense layer\n",
    "    \"dropouts_2\": tune.uniform(0.1, 0.5),  # Dropout rate\n",
    "}"
   ]
  },
  {
   "cell_type": "code",
   "execution_count": 7,
   "metadata": {
    "id": "9g8A7WBWDKZj"
   },
   "outputs": [
    {
     "data": {
      "text/html": [
       "<div class=\"tuneStatus\">\n",
       "  <div style=\"display: flex;flex-direction: row\">\n",
       "    <div style=\"display: flex;flex-direction: column;\">\n",
       "      <h3>Tune Status</h3>\n",
       "      <table>\n",
       "<tbody>\n",
       "<tr><td>Current time:</td><td>2024-02-21 10:06:49</td></tr>\n",
       "<tr><td>Running for: </td><td>00:02:44.71        </td></tr>\n",
       "<tr><td>Memory:      </td><td>3.9/8.0 GiB        </td></tr>\n",
       "</tbody>\n",
       "</table>\n",
       "    </div>\n",
       "    <div class=\"vDivider\"></div>\n",
       "    <div class=\"systemInfo\">\n",
       "      <h3>System Info</h3>\n",
       "      Using FIFO scheduling algorithm.<br>Logical resource usage: 1.0/8 CPUs, 0/0 GPUs\n",
       "    </div>\n",
       "    \n",
       "  </div>\n",
       "  <div class=\"hDivider\"></div>\n",
       "  <div class=\"trialStatus\">\n",
       "    <h3>Trial Status</h3>\n",
       "    <table>\n",
       "<thead>\n",
       "<tr><th>Trial name             </th><th>status    </th><th>loc            </th><th style=\"text-align: right;\">  dropouts_1</th><th style=\"text-align: right;\">  dropouts_2</th><th style=\"text-align: right;\">  units_1</th><th style=\"text-align: right;\">  units_2</th><th style=\"text-align: right;\">  iter</th><th style=\"text-align: right;\">  total time (s)</th><th style=\"text-align: right;\">  test_accuracy</th></tr>\n",
       "</thead>\n",
       "<tbody>\n",
       "<tr><td>train_model_72c11_00000</td><td>TERMINATED</td><td>127.0.0.1:72806</td><td style=\"text-align: right;\">    0.189135</td><td style=\"text-align: right;\">    0.260631</td><td style=\"text-align: right;\">       64</td><td style=\"text-align: right;\">      128</td><td style=\"text-align: right;\">     1</td><td style=\"text-align: right;\">         82.6195</td><td style=\"text-align: right;\">         0.8505</td></tr>\n",
       "<tr><td>train_model_72c11_00001</td><td>TERMINATED</td><td>127.0.0.1:72807</td><td style=\"text-align: right;\">    0.384907</td><td style=\"text-align: right;\">    0.468157</td><td style=\"text-align: right;\">       64</td><td style=\"text-align: right;\">       64</td><td style=\"text-align: right;\">     1</td><td style=\"text-align: right;\">         81.4403</td><td style=\"text-align: right;\">         0.8266</td></tr>\n",
       "<tr><td>train_model_72c11_00002</td><td>TERMINATED</td><td>127.0.0.1:72808</td><td style=\"text-align: right;\">    0.443818</td><td style=\"text-align: right;\">    0.309459</td><td style=\"text-align: right;\">      256</td><td style=\"text-align: right;\">      128</td><td style=\"text-align: right;\">     1</td><td style=\"text-align: right;\">         92.2601</td><td style=\"text-align: right;\">         0.8407</td></tr>\n",
       "<tr><td>train_model_72c11_00003</td><td>TERMINATED</td><td>127.0.0.1:72809</td><td style=\"text-align: right;\">    0.326385</td><td style=\"text-align: right;\">    0.422595</td><td style=\"text-align: right;\">      128</td><td style=\"text-align: right;\">      128</td><td style=\"text-align: right;\">     1</td><td style=\"text-align: right;\">         84.6292</td><td style=\"text-align: right;\">         0.8459</td></tr>\n",
       "<tr><td>train_model_72c11_00004</td><td>TERMINATED</td><td>127.0.0.1:72810</td><td style=\"text-align: right;\">    0.31977 </td><td style=\"text-align: right;\">    0.184915</td><td style=\"text-align: right;\">      128</td><td style=\"text-align: right;\">      128</td><td style=\"text-align: right;\">     1</td><td style=\"text-align: right;\">         83.8566</td><td style=\"text-align: right;\">         0.8475</td></tr>\n",
       "<tr><td>train_model_72c11_00005</td><td>TERMINATED</td><td>127.0.0.1:72811</td><td style=\"text-align: right;\">    0.402239</td><td style=\"text-align: right;\">    0.387845</td><td style=\"text-align: right;\">       64</td><td style=\"text-align: right;\">      128</td><td style=\"text-align: right;\">     1</td><td style=\"text-align: right;\">         82.6844</td><td style=\"text-align: right;\">         0.837 </td></tr>\n",
       "<tr><td>train_model_72c11_00006</td><td>TERMINATED</td><td>127.0.0.1:72812</td><td style=\"text-align: right;\">    0.29395 </td><td style=\"text-align: right;\">    0.137211</td><td style=\"text-align: right;\">      256</td><td style=\"text-align: right;\">       64</td><td style=\"text-align: right;\">     1</td><td style=\"text-align: right;\">         86.8368</td><td style=\"text-align: right;\">         0.8502</td></tr>\n",
       "<tr><td>train_model_72c11_00007</td><td>TERMINATED</td><td>127.0.0.1:72813</td><td style=\"text-align: right;\">    0.219148</td><td style=\"text-align: right;\">    0.393758</td><td style=\"text-align: right;\">      128</td><td style=\"text-align: right;\">      128</td><td style=\"text-align: right;\">     1</td><td style=\"text-align: right;\">         84.5518</td><td style=\"text-align: right;\">         0.8504</td></tr>\n",
       "<tr><td>train_model_72c11_00008</td><td>TERMINATED</td><td>127.0.0.1:72807</td><td style=\"text-align: right;\">    0.455081</td><td style=\"text-align: right;\">    0.351004</td><td style=\"text-align: right;\">      128</td><td style=\"text-align: right;\">      256</td><td style=\"text-align: right;\">     1</td><td style=\"text-align: right;\">         72.1622</td><td style=\"text-align: right;\">         0.8381</td></tr>\n",
       "<tr><td>train_model_72c11_00009</td><td>TERMINATED</td><td>127.0.0.1:72806</td><td style=\"text-align: right;\">    0.247827</td><td style=\"text-align: right;\">    0.275318</td><td style=\"text-align: right;\">      256</td><td style=\"text-align: right;\">       64</td><td style=\"text-align: right;\">     1</td><td style=\"text-align: right;\">         69.5467</td><td style=\"text-align: right;\">         0.8505</td></tr>\n",
       "<tr><td>train_model_72c11_00010</td><td>TERMINATED</td><td>127.0.0.1:72811</td><td style=\"text-align: right;\">    0.154629</td><td style=\"text-align: right;\">    0.322588</td><td style=\"text-align: right;\">       64</td><td style=\"text-align: right;\">      128</td><td style=\"text-align: right;\">     1</td><td style=\"text-align: right;\">         67.4642</td><td style=\"text-align: right;\">         0.8563</td></tr>\n",
       "<tr><td>train_model_72c11_00011</td><td>TERMINATED</td><td>127.0.0.1:72810</td><td style=\"text-align: right;\">    0.233095</td><td style=\"text-align: right;\">    0.185053</td><td style=\"text-align: right;\">      128</td><td style=\"text-align: right;\">      128</td><td style=\"text-align: right;\">     1</td><td style=\"text-align: right;\">         67.6751</td><td style=\"text-align: right;\">         0.8508</td></tr>\n",
       "<tr><td>train_model_72c11_00012</td><td>TERMINATED</td><td>127.0.0.1:72813</td><td style=\"text-align: right;\">    0.317098</td><td style=\"text-align: right;\">    0.286927</td><td style=\"text-align: right;\">      128</td><td style=\"text-align: right;\">       64</td><td style=\"text-align: right;\">     1</td><td style=\"text-align: right;\">         66.5556</td><td style=\"text-align: right;\">         0.8506</td></tr>\n",
       "<tr><td>train_model_72c11_00013</td><td>TERMINATED</td><td>127.0.0.1:72809</td><td style=\"text-align: right;\">    0.210076</td><td style=\"text-align: right;\">    0.221072</td><td style=\"text-align: right;\">      128</td><td style=\"text-align: right;\">       64</td><td style=\"text-align: right;\">     1</td><td style=\"text-align: right;\">         66.8621</td><td style=\"text-align: right;\">         0.8415</td></tr>\n",
       "<tr><td>train_model_72c11_00014</td><td>TERMINATED</td><td>127.0.0.1:72812</td><td style=\"text-align: right;\">    0.2935  </td><td style=\"text-align: right;\">    0.39781 </td><td style=\"text-align: right;\">      128</td><td style=\"text-align: right;\">      256</td><td style=\"text-align: right;\">     1</td><td style=\"text-align: right;\">         68.0614</td><td style=\"text-align: right;\">         0.8448</td></tr>\n",
       "<tr><td>train_model_72c11_00015</td><td>TERMINATED</td><td>127.0.0.1:72808</td><td style=\"text-align: right;\">    0.221784</td><td style=\"text-align: right;\">    0.494763</td><td style=\"text-align: right;\">      256</td><td style=\"text-align: right;\">       64</td><td style=\"text-align: right;\">     1</td><td style=\"text-align: right;\">         63.9828</td><td style=\"text-align: right;\">         0.8572</td></tr>\n",
       "</tbody>\n",
       "</table>\n",
       "  </div>\n",
       "</div>\n",
       "<style>\n",
       ".tuneStatus {\n",
       "  color: var(--jp-ui-font-color1);\n",
       "}\n",
       ".tuneStatus .systemInfo {\n",
       "  display: flex;\n",
       "  flex-direction: column;\n",
       "}\n",
       ".tuneStatus td {\n",
       "  white-space: nowrap;\n",
       "}\n",
       ".tuneStatus .trialStatus {\n",
       "  display: flex;\n",
       "  flex-direction: column;\n",
       "}\n",
       ".tuneStatus h3 {\n",
       "  font-weight: bold;\n",
       "}\n",
       ".tuneStatus .hDivider {\n",
       "  border-bottom-width: var(--jp-border-width);\n",
       "  border-bottom-color: var(--jp-border-color0);\n",
       "  border-bottom-style: solid;\n",
       "}\n",
       ".tuneStatus .vDivider {\n",
       "  border-left-width: var(--jp-border-width);\n",
       "  border-left-color: var(--jp-border-color0);\n",
       "  border-left-style: solid;\n",
       "  margin: 0.5em 1em 0.5em 1em;\n",
       "}\n",
       "</style>\n"
      ],
      "text/plain": [
       "<IPython.core.display.HTML object>"
      ]
     },
     "metadata": {},
     "output_type": "display_data"
    },
    {
     "name": "stderr",
     "output_type": "stream",
     "text": [
      "\u001b[33m(raylet)\u001b[0m [2024-02-21 10:04:05,807 E 72757 222050] (raylet) file_system_monitor.cc:111: /tmp/ray/session_2024-02-21_10-01-42_582128_72639 is over 95% full, available space: 10923683840; capacity: 245107195904. Object creation will fail if spilling is required.\n",
      "\u001b[33m(raylet)\u001b[0m [2024-02-21 10:04:15,888 E 72757 222050] (raylet) file_system_monitor.cc:111: /tmp/ray/session_2024-02-21_10-01-42_582128_72639 is over 95% full, available space: 10922815488; capacity: 245107195904. Object creation will fail if spilling is required.\n",
      "\u001b[36m(train_model pid=72811)\u001b[0m WARNING:absl:At this time, the v2.11+ optimizer `tf.keras.optimizers.Adam` runs slowly on M1/M2 Macs, please use the legacy Keras optimizer instead, located at `tf.keras.optimizers.legacy.Adam`.\n",
      "\u001b[36m(train_model pid=72811)\u001b[0m WARNING:absl:There is a known slowdown when using v2.11+ Keras optimizers on M1/M2 Macs. Falling back to the legacy Keras optimizer, i.e., `tf.keras.optimizers.legacy.Adam`.\n",
      "\u001b[36m(train_model pid=72811)\u001b[0m 2024-02-21 10:04:17.324896: W tensorflow/tsl/platform/profile_utils/cpu_utils.cc:128] Failed to get CPU frequency: 0 Hz\n",
      "\u001b[33m(raylet)\u001b[0m [2024-02-21 10:04:25,931 E 72757 222050] (raylet) file_system_monitor.cc:111: /tmp/ray/session_2024-02-21_10-01-42_582128_72639 is over 95% full, available space: 9888575488; capacity: 245107195904. Object creation will fail if spilling is required.\n",
      "\u001b[36m(train_model pid=72809)\u001b[0m WARNING:absl:At this time, the v2.11+ optimizer `tf.keras.optimizers.Adam` runs slowly on M1/M2 Macs, please use the legacy Keras optimizer instead, located at `tf.keras.optimizers.legacy.Adam`.\u001b[32m [repeated 7x across cluster] (Ray deduplicates logs by default. Set RAY_DEDUP_LOGS=0 to disable log deduplication, or see https://docs.ray.io/en/master/ray-observability/ray-logging.html#log-deduplication for more options.)\u001b[0m\n",
      "\u001b[36m(train_model pid=72809)\u001b[0m WARNING:absl:There is a known slowdown when using v2.11+ Keras optimizers on M1/M2 Macs. Falling back to the legacy Keras optimizer, i.e., `tf.keras.optimizers.legacy.Adam`.\u001b[32m [repeated 7x across cluster]\u001b[0m\n",
      "\u001b[36m(train_model pid=72809)\u001b[0m 2024-02-21 10:04:17.321553: W tensorflow/tsl/platform/profile_utils/cpu_utils.cc:128] Failed to get CPU frequency: 0 Hz\u001b[32m [repeated 7x across cluster]\u001b[0m\n",
      "\u001b[33m(raylet)\u001b[0m [2024-02-21 10:04:36,029 E 72757 222050] (raylet) file_system_monitor.cc:111: /tmp/ray/session_2024-02-21_10-01-42_582128_72639 is over 95% full, available space: 9887703040; capacity: 245107195904. Object creation will fail if spilling is required.\n",
      "\u001b[33m(raylet)\u001b[0m [2024-02-21 10:04:46,129 E 72757 222050] (raylet) file_system_monitor.cc:111: /tmp/ray/session_2024-02-21_10-01-42_582128_72639 is over 95% full, available space: 9887174656; capacity: 245107195904. Object creation will fail if spilling is required.\n",
      "\u001b[33m(raylet)\u001b[0m [2024-02-21 10:04:56,135 E 72757 222050] (raylet) file_system_monitor.cc:111: /tmp/ray/session_2024-02-21_10-01-42_582128_72639 is over 95% full, available space: 9886322688; capacity: 245107195904. Object creation will fail if spilling is required.\n",
      "\u001b[33m(raylet)\u001b[0m [2024-02-21 10:05:06,219 E 72757 222050] (raylet) file_system_monitor.cc:111: /tmp/ray/session_2024-02-21_10-01-42_582128_72639 is over 95% full, available space: 9884995584; capacity: 245107195904. Object creation will fail if spilling is required.\n",
      "\u001b[33m(raylet)\u001b[0m [2024-02-21 10:05:16,223 E 72757 222050] (raylet) file_system_monitor.cc:111: /tmp/ray/session_2024-02-21_10-01-42_582128_72639 is over 95% full, available space: 9884065792; capacity: 245107195904. Object creation will fail if spilling is required.\n",
      "\u001b[33m(raylet)\u001b[0m [2024-02-21 10:05:26,225 E 72757 222050] (raylet) file_system_monitor.cc:111: /tmp/ray/session_2024-02-21_10-01-42_582128_72639 is over 95% full, available space: 9890992128; capacity: 245107195904. Object creation will fail if spilling is required.\n"
     ]
    },
    {
     "name": "stdout",
     "output_type": "stream",
     "text": [
      " 33/313 [==>...........................] - ETA: 0s - loss: 0.4564 - accuracy: 0.8523  \n",
      " 68/313 [=====>........................] - ETA: 0s - loss: 0.4444 - accuracy: 0.8456\n",
      " 71/313 [=====>........................] - ETA: 0s - loss: 0.4385 - accuracy: 0.8486\n",
      " 92/313 [=======>......................] - ETA: 0s - loss: 0.4569 - accuracy: 0.8410\n",
      "121/313 [==========>...................] - ETA: 0s - loss: 0.4729 - accuracy: 0.8321\n",
      "124/313 [==========>...................] - ETA: 0s - loss: 0.4749 - accuracy: 0.8314\n",
      "142/313 [============>.................] - ETA: 1s - loss: 0.4690 - accuracy: 0.8343\n",
      "154/313 [=============>................] - ETA: 0s - loss: 0.4685 - accuracy: 0.8326\n",
      "157/313 [==============>...............] - ETA: 1s - loss: 0.4691 - accuracy: 0.8328\n",
      "160/313 [==============>...............] - ETA: 1s - loss: 0.4715 - accuracy: 0.8316\n",
      "184/313 [================>.............] - ETA: 0s - loss: 0.4828 - accuracy: 0.8285\n",
      "209/313 [===================>..........] - ETA: 0s - loss: 0.4864 - accuracy: 0.8263\n",
      "224/313 [====================>.........] - ETA: 0s - loss: 0.4837 - accuracy: 0.8246\n",
      "  1/313 [..............................] - ETA: 4:05 - loss: 0.4031 - accuracy: 0.8438\n",
      "276/313 [=========================>....] - ETA: 0s - loss: 0.4797 - accuracy: 0.8264\n",
      " 62/313 [====>.........................] - ETA: 0s - loss: 0.3891 - accuracy: 0.8614\n",
      " 31/313 [=>............................] - ETA: 0s - loss: 0.4464 - accuracy: 0.8478  \n",
      "285/313 [==========================>...] - ETA: 0s - loss: 0.4789 - accuracy: 0.8270\n",
      " 68/313 [=====>........................] - ETA: 0s - loss: 0.3852 - accuracy: 0.8640\n",
      " 45/313 [===>..........................] - ETA: 1s - loss: 0.4362 - accuracy: 0.8472\n",
      "313/313 [==============================] - 3s 6ms/step - loss: 0.4800 - accuracy: 0.8266\n",
      " 57/313 [====>.........................] - ETA: 1s - loss: 0.4281 - accuracy: 0.8476\n",
      " 81/313 [======>.......................] - ETA: 1s - loss: 0.3831 - accuracy: 0.8638\n",
      " 96/313 [========>.....................] - ETA: 1s - loss: 0.3932 - accuracy: 0.8590\n",
      " 68/313 [=====>........................] - ETA: 1s - loss: 0.4267 - accuracy: 0.8506\n",
      "114/313 [=========>....................] - ETA: 1s - loss: 0.4050 - accuracy: 0.8542\n",
      "139/313 [============>.................] - ETA: 0s - loss: 0.4021 - accuracy: 0.8541\n",
      "133/313 [===========>..................] - ETA: 0s - loss: 0.4510 - accuracy: 0.8395\n",
      "159/313 [==============>...............] - ETA: 0s - loss: 0.4053 - accuracy: 0.8514\n",
      "147/313 [=============>................] - ETA: 0s - loss: 0.4434 - accuracy: 0.8412\n",
      "174/313 [===============>..............] - ETA: 0s - loss: 0.4551 - accuracy: 0.8391\n",
      "195/313 [=================>............] - ETA: 0s - loss: 0.4107 - accuracy: 0.8513\n",
      "188/313 [=================>............] - ETA: 0s - loss: 0.4566 - accuracy: 0.8378\n",
      " 18/313 [>.............................] - ETA: 0s - loss: 0.3502 - accuracy: 0.8646  \n",
      "246/313 [======================>.......] - ETA: 0s - loss: 0.4026 - accuracy: 0.8514\n",
      "273/313 [=========================>....] - ETA: 0s - loss: 0.4532 - accuracy: 0.8377\n",
      " 28/313 [=>............................] - ETA: 1s - loss: 0.3747 - accuracy: 0.8705\n",
      "287/313 [==========================>...] - ETA: 0s - loss: 0.4551 - accuracy: 0.8369\n",
      " 42/313 [===>..........................] - ETA: 1s - loss: 0.3873 - accuracy: 0.8668\n",
      "313/313 [==============================] - 2s 5ms/step - loss: 0.4032 - accuracy: 0.8505\n",
      "307/313 [============================>.] - ETA: 0s - loss: 0.4535 - accuracy: 0.8371\n",
      "313/313 [==============================] - 2s 5ms/step - loss: 0.4530 - accuracy: 0.8370\n",
      "119/313 [==========>...................] - ETA: 0s - loss: 0.4143 - accuracy: 0.8522\n"
     ]
    },
    {
     "name": "stderr",
     "output_type": "stream",
     "text": [
      "\u001b[33m(raylet)\u001b[0m [2024-02-21 10:05:36,232 E 72757 222050] (raylet) file_system_monitor.cc:111: /tmp/ray/session_2024-02-21_10-01-42_582128_72639 is over 95% full, available space: 9889689600; capacity: 245107195904. Object creation will fail if spilling is required.\n"
     ]
    },
    {
     "name": "stdout",
     "output_type": "stream",
     "text": [
      " 16/313 [>.............................] - ETA: 3s - loss: 0.3798 - accuracy: 0.8691\n",
      " 37/313 [==>...........................] - ETA: 0s - loss: 0.4051 - accuracy: 0.8530\n",
      " 33/313 [==>...........................] - ETA: 2s - loss: 0.4017 - accuracy: 0.8674\n",
      "196/313 [=================>............] - ETA: 0s - loss: 0.4193 - accuracy: 0.8484\n",
      " 93/313 [=======>......................] - ETA: 0s - loss: 0.4034 - accuracy: 0.8572\n",
      "104/313 [========>.....................] - ETA: 1s - loss: 0.4112 - accuracy: 0.8534\n",
      " 77/313 [======>.......................] - ETA: 1s - loss: 0.3914 - accuracy: 0.8592\n",
      "236/313 [=====================>........] - ETA: 0s - loss: 0.4174 - accuracy: 0.8484\n",
      "248/313 [======================>.......] - ETA: 0s - loss: 0.4156 - accuracy: 0.8490\n",
      "125/313 [==========>...................] - ETA: 0s - loss: 0.4155 - accuracy: 0.8530\n",
      "107/313 [=========>....................] - ETA: 1s - loss: 0.4158 - accuracy: 0.8516\n",
      "268/313 [========================>.....] - ETA: 0s - loss: 0.4140 - accuracy: 0.8484\n",
      "151/313 [=============>................] - ETA: 0s - loss: 0.4163 - accuracy: 0.8520\n"
     ]
    },
    {
     "name": "stderr",
     "output_type": "stream",
     "text": [
      "\u001b[36m(train_model pid=72807)\u001b[0m WARNING:absl:At this time, the v2.11+ optimizer `tf.keras.optimizers.Adam` runs slowly on M1/M2 Macs, please use the legacy Keras optimizer instead, located at `tf.keras.optimizers.legacy.Adam`.\n",
      "\u001b[36m(train_model pid=72807)\u001b[0m WARNING:absl:There is a known slowdown when using v2.11+ Keras optimizers on M1/M2 Macs. Falling back to the legacy Keras optimizer, i.e., `tf.keras.optimizers.legacy.Adam`.\n"
     ]
    },
    {
     "name": "stdout",
     "output_type": "stream",
     "text": [
      "313/313 [==============================] - 3s 5ms/step - loss: 0.4152 - accuracy: 0.8475\n",
      "188/313 [=================>............] - ETA: 0s - loss: 0.4227 - accuracy: 0.8516\n",
      "214/313 [===================>..........] - ETA: 0s - loss: 0.4209 - accuracy: 0.8513\n",
      "203/313 [==================>...........] - ETA: 0s - loss: 0.4290 - accuracy: 0.8456\n",
      "242/313 [======================>.......] - ETA: 0s - loss: 0.4166 - accuracy: 0.8514\n",
      "233/313 [=====================>........] - ETA: 0s - loss: 0.4274 - accuracy: 0.8450\n",
      "259/313 [=======================>......] - ETA: 0s - loss: 0.4153 - accuracy: 0.8517\n",
      "271/313 [========================>.....] - ETA: 0s - loss: 0.4136 - accuracy: 0.8519\n",
      "264/313 [========================>.....] - ETA: 0s - loss: 0.4220 - accuracy: 0.8460\n",
      "301/313 [===========================>..] - ETA: 0s - loss: 0.4172 - accuracy: 0.8501\n",
      "281/313 [=========================>....] - ETA: 0s - loss: 0.4231 - accuracy: 0.8455\n",
      "300/313 [===========================>..] - ETA: 0s - loss: 0.4255 - accuracy: 0.8451\n",
      " 71/313 [=====>........................] - ETA: 0s - loss: 0.3787 - accuracy: 0.8666\n",
      " 89/313 [=======>......................] - ETA: 1s - loss: 0.3873 - accuracy: 0.8599\u001b[32m [repeated 2x across cluster]\u001b[0m\n",
      "118/313 [==========>...................] - ETA: 0s - loss: 0.4481 - accuracy: 0.8424\n",
      "146/313 [============>.................] - ETA: 0s - loss: 0.4109 - accuracy: 0.8527\n",
      " 96/313 [========>.....................] - ETA: 1s - loss: 0.3881 - accuracy: 0.8610\n",
      "122/313 [==========>...................] - ETA: 0s - loss: 0.4018 - accuracy: 0.8555\n",
      "141/313 [============>.................] - ETA: 0s - loss: 0.3994 - accuracy: 0.8548\n",
      "185/313 [================>.............] - ETA: 0s - loss: 0.4215 - accuracy: 0.8485\u001b[32m [repeated 2x across cluster]\u001b[0m\n",
      "210/313 [===================>..........] - ETA: 0s - loss: 0.4239 - accuracy: 0.8466\u001b[32m [repeated 2x across cluster]\u001b[0m\n",
      "207/313 [==================>...........] - ETA: 0s - loss: 0.4119 - accuracy: 0.8490\n",
      "225/313 [====================>.........] - ETA: 0s - loss: 0.4568 - accuracy: 0.8367\n",
      "223/313 [====================>.........] - ETA: 0s - loss: 0.4113 - accuracy: 0.8481\n",
      "  1/313 [..............................] - ETA: 2:10 - loss: 0.3466 - accuracy: 0.8750\u001b[32m [repeated 2x across cluster]\u001b[0m\n",
      "252/313 [=======================>......] - ETA: 0s - loss: 0.4058 - accuracy: 0.8492\n",
      " 27/313 [=>............................] - ETA: 0s - loss: 0.4015 - accuracy: 0.8576  \n",
      " 43/313 [===>..........................] - ETA: 1s - loss: 0.4050 - accuracy: 0.8547\n",
      "259/313 [=======================>......] - ETA: 0s - loss: 0.4051 - accuracy: 0.8498\n",
      " 57/313 [====>.........................] - ETA: 1s - loss: 0.3979 - accuracy: 0.8525\n",
      "283/313 [==========================>...] - ETA: 0s - loss: 0.4043 - accuracy: 0.8503\n",
      "291/313 [==========================>...] - ETA: 0s - loss: 0.4055 - accuracy: 0.8495\n",
      " 68/313 [=====>........................] - ETA: 1s - loss: 0.3777 - accuracy: 0.8640\n",
      "302/313 [===========================>..] - ETA: 0s - loss: 0.4059 - accuracy: 0.8493\n",
      "313/313 [==============================] - 2s 5ms/step - loss: 0.4043 - accuracy: 0.8502\n",
      "143/313 [============>.................] - ETA: 0s - loss: 0.4127 - accuracy: 0.8534\n"
     ]
    },
    {
     "name": "stderr",
     "output_type": "stream",
     "text": [
      "\u001b[36m(train_model pid=72812)\u001b[0m WARNING:absl:At this time, the v2.11+ optimizer `tf.keras.optimizers.Adam` runs slowly on M1/M2 Macs, please use the legacy Keras optimizer instead, located at `tf.keras.optimizers.legacy.Adam`.\u001b[32m [repeated 6x across cluster]\u001b[0m\n",
      "\u001b[36m(train_model pid=72812)\u001b[0m WARNING:absl:There is a known slowdown when using v2.11+ Keras optimizers on M1/M2 Macs. Falling back to the legacy Keras optimizer, i.e., `tf.keras.optimizers.legacy.Adam`.\u001b[32m [repeated 6x across cluster]\u001b[0m\n"
     ]
    },
    {
     "name": "stdout",
     "output_type": "stream",
     "text": [
      "163/313 [==============>...............] - ETA: 0s - loss: 0.4041 - accuracy: 0.8524\n",
      "151/313 [=============>................] - ETA: 0s - loss: 0.4123 - accuracy: 0.8558\n",
      "176/313 [===============>..............] - ETA: 0s - loss: 0.4292 - accuracy: 0.8491\u001b[32m [repeated 3x across cluster]\u001b[0m\n",
      "190/313 [=================>............] - ETA: 0s - loss: 0.4101 - accuracy: 0.8500\n",
      "272/313 [=========================>....] - ETA: 0s - loss: 0.4028 - accuracy: 0.8510\n",
      " 29/313 [=>............................] - ETA: 2s - loss: 0.3687 - accuracy: 0.8728\n",
      "286/313 [==========================>...] - ETA: 0s - loss: 0.4150 - accuracy: 0.8507\u001b[32m [repeated 2x across cluster]\u001b[0m\n",
      " 50/313 [===>..........................] - ETA: 1s - loss: 0.3739 - accuracy: 0.8662\n",
      " 15/313 [>.............................] - ETA: 2s - loss: 0.3382 - accuracy: 0.8813\n",
      " 81/313 [======>.......................] - ETA: 1s - loss: 0.3735 - accuracy: 0.8646\n",
      "313/313 [==============================] - 2s 5ms/step - loss: 0.4236 - accuracy: 0.8459\u001b[32m [repeated 2x across cluster]\u001b[0m\n",
      "247/313 [======================>.......] - ETA: 0s - loss: 0.4234 - accuracy: 0.8467\n",
      "275/313 [=========================>....] - ETA: 0s - loss: 0.4047 - accuracy: 0.8501\n",
      " 45/313 [===>..........................] - ETA: 0s - loss: 0.4055 - accuracy: 0.8590\n",
      " 48/313 [===>..........................] - ETA: 1s - loss: 0.4168 - accuracy: 0.8555\n",
      " 58/313 [====>.........................] - ETA: 1s - loss: 0.4069 - accuracy: 0.8621\n",
      " 79/313 [======>.......................] - ETA: 1s - loss: 0.4030 - accuracy: 0.8608\n",
      " 98/313 [========>.....................] - ETA: 1s - loss: 0.4142 - accuracy: 0.8568\n",
      "116/313 [==========>...................] - ETA: 1s - loss: 0.4229 - accuracy: 0.8529\n",
      "139/313 [============>.................] - ETA: 0s - loss: 0.4232 - accuracy: 0.8494\n",
      "  1/313 [..............................] - ETA: 4:09 - loss: 0.5605 - accuracy: 0.7812\n",
      "154/313 [=============>................] - ETA: 0s - loss: 0.4223 - accuracy: 0.8488\n",
      "174/313 [===============>..............] - ETA: 0s - loss: 0.4326 - accuracy: 0.8454\n",
      "196/313 [=================>............] - ETA: 0s - loss: 0.4346 - accuracy: 0.8418\n",
      "211/313 [===================>..........] - ETA: 0s - loss: 0.4371 - accuracy: 0.8411\n",
      "257/313 [=======================>......] - ETA: 0s - loss: 0.4301 - accuracy: 0.8419\n",
      "285/313 [==========================>...] - ETA: 0s - loss: 0.4288 - accuracy: 0.8411\n",
      "287/313 [==========================>...] - ETA: 0s - loss: 0.4300 - accuracy: 0.8406\n",
      "313/313 [==============================] - 2s 5ms/step - loss: 0.4299 - accuracy: 0.8407\n"
     ]
    },
    {
     "name": "stderr",
     "output_type": "stream",
     "text": [
      "\u001b[33m(raylet)\u001b[0m [2024-02-21 10:05:46,251 E 72757 222050] (raylet) file_system_monitor.cc:111: /tmp/ray/session_2024-02-21_10-01-42_582128_72639 is over 95% full, available space: 8815181824; capacity: 245107195904. Object creation will fail if spilling is required.\n",
      "\u001b[36m(train_model pid=72808)\u001b[0m WARNING:absl:At this time, the v2.11+ optimizer `tf.keras.optimizers.Adam` runs slowly on M1/M2 Macs, please use the legacy Keras optimizer instead, located at `tf.keras.optimizers.legacy.Adam`.\n",
      "\u001b[36m(train_model pid=72808)\u001b[0m WARNING:absl:There is a known slowdown when using v2.11+ Keras optimizers on M1/M2 Macs. Falling back to the legacy Keras optimizer, i.e., `tf.keras.optimizers.legacy.Adam`.\n",
      "\u001b[33m(raylet)\u001b[0m [2024-02-21 10:05:56,350 E 72757 222050] (raylet) file_system_monitor.cc:111: /tmp/ray/session_2024-02-21_10-01-42_582128_72639 is over 95% full, available space: 8820916224; capacity: 245107195904. Object creation will fail if spilling is required.\n",
      "\u001b[33m(raylet)\u001b[0m [2024-02-21 10:06:06,360 E 72757 222050] (raylet) file_system_monitor.cc:111: /tmp/ray/session_2024-02-21_10-01-42_582128_72639 is over 95% full, available space: 8820740096; capacity: 245107195904. Object creation will fail if spilling is required.\n",
      "\u001b[33m(raylet)\u001b[0m [2024-02-21 10:06:16,362 E 72757 222050] (raylet) file_system_monitor.cc:111: /tmp/ray/session_2024-02-21_10-01-42_582128_72639 is over 95% full, available space: 8821059584; capacity: 245107195904. Object creation will fail if spilling is required.\n",
      "\u001b[33m(raylet)\u001b[0m [2024-02-21 10:06:26,458 E 72757 222050] (raylet) file_system_monitor.cc:111: /tmp/ray/session_2024-02-21_10-01-42_582128_72639 is over 95% full, available space: 8821026816; capacity: 245107195904. Object creation will fail if spilling is required.\n",
      "\u001b[33m(raylet)\u001b[0m [2024-02-21 10:06:36,556 E 72757 222050] (raylet) file_system_monitor.cc:111: /tmp/ray/session_2024-02-21_10-01-42_582128_72639 is over 95% full, available space: 8821018624; capacity: 245107195904. Object creation will fail if spilling is required.\n"
     ]
    },
    {
     "name": "stdout",
     "output_type": "stream",
     "text": [
      "  1/313 [..............................] - ETA: 2:57 - loss: 0.3546 - accuracy: 0.9062\n",
      "168/313 [===============>..............] - ETA: 0s - loss: 0.4292 - accuracy: 0.8471\n",
      " 69/313 [=====>........................] - ETA: 0s - loss: 0.3685 - accuracy: 0.8718\n",
      " 80/313 [======>.......................] - ETA: 0s - loss: 0.3669 - accuracy: 0.8707\n",
      " 87/313 [=======>......................] - ETA: 0s - loss: 0.3713 - accuracy: 0.8678\n",
      " 96/313 [========>.....................] - ETA: 0s - loss: 0.3818 - accuracy: 0.8662\n",
      "111/313 [=========>....................] - ETA: 0s - loss: 0.3955 - accuracy: 0.8635\n",
      "133/313 [===========>..................] - ETA: 0s - loss: 0.4017 - accuracy: 0.8604\n",
      "168/313 [===============>..............] - ETA: 0s - loss: 0.4039 - accuracy: 0.8590\n",
      "204/313 [==================>...........] - ETA: 0s - loss: 0.4077 - accuracy: 0.8557\n",
      "241/313 [======================>.......] - ETA: 0s - loss: 0.4010 - accuracy: 0.8574\n",
      "256/313 [=======================>......] - ETA: 0s - loss: 0.4002 - accuracy: 0.8571\n",
      "278/313 [=========================>....] - ETA: 0s - loss: 0.3997 - accuracy: 0.8571\n",
      "308/313 [============================>.] - ETA: 0s - loss: 0.3988 - accuracy: 0.8565\n",
      "313/313 [==============================] - 2s 4ms/step - loss: 0.3988 - accuracy: 0.8563\n",
      " 31/313 [=>............................] - ETA: 0s - loss: 0.4144 - accuracy: 0.8579  \n",
      " 42/313 [===>..........................] - ETA: 0s - loss: 0.4103 - accuracy: 0.8527\n",
      " 82/313 [======>.......................] - ETA: 0s - loss: 0.3994 - accuracy: 0.8567\n",
      "116/313 [==========>...................] - ETA: 0s - loss: 0.4171 - accuracy: 0.8518\n",
      "148/313 [=============>................] - ETA: 0s - loss: 0.4091 - accuracy: 0.8547\n",
      " 19/313 [>.............................] - ETA: 0s - loss: 0.3723 - accuracy: 0.8503  \n",
      "182/313 [================>.............] - ETA: 0s - loss: 0.4266 - accuracy: 0.8498\n",
      " 70/313 [=====>........................] - ETA: 0s - loss: 0.3919 - accuracy: 0.8527\n",
      "216/313 [===================>..........] - ETA: 0s - loss: 0.4288 - accuracy: 0.8491\n",
      "100/313 [========>.....................] - ETA: 0s - loss: 0.4088 - accuracy: 0.8456\n",
      " 39/313 [==>...........................] - ETA: 0s - loss: 0.3836 - accuracy: 0.8606\n",
      "254/313 [=======================>......] - ETA: 0s - loss: 0.4213 - accuracy: 0.8503\n",
      " 95/313 [========>.....................] - ETA: 0s - loss: 0.3939 - accuracy: 0.8559\n",
      "313/313 [==============================] - 2s 3ms/step - loss: 0.4195 - accuracy: 0.8506\n",
      "214/313 [===================>..........] - ETA: 0s - loss: 0.4316 - accuracy: 0.8407\n",
      "166/313 [==============>...............] - ETA: 0s - loss: 0.4085 - accuracy: 0.8522\n",
      "250/313 [======================>.......] - ETA: 0s - loss: 0.4219 - accuracy: 0.8426\n",
      "193/313 [=================>............] - ETA: 0s - loss: 0.4133 - accuracy: 0.8486\n",
      "296/313 [===========================>..] - ETA: 0s - loss: 0.4247 - accuracy: 0.8409\n",
      "241/313 [======================>.......] - ETA: 0s - loss: 0.4046 - accuracy: 0.8510\n",
      " 65/313 [=====>........................] - ETA: 0s - loss: 0.3921 - accuracy: 0.8702\n",
      "313/313 [==============================] - 1s 3ms/step - loss: 0.4233 - accuracy: 0.8415\n",
      "305/313 [============================>.] - ETA: 0s - loss: 0.4035 - accuracy: 0.8498\n",
      "141/313 [============>.................] - ETA: 0s - loss: 0.4111 - accuracy: 0.8590\n",
      "251/313 [=======================>......] - ETA: 0s - loss: 0.4159 - accuracy: 0.8511\n",
      "288/313 [==========================>...] - ETA: 0s - loss: 0.4164 - accuracy: 0.8503\n",
      " 50/313 [===>..........................] - ETA: 0s - loss: 0.4254 - accuracy: 0.8481\n"
     ]
    },
    {
     "name": "stderr",
     "output_type": "stream",
     "text": [
      "\u001b[33m(raylet)\u001b[0m [2024-02-21 10:06:46,562 E 72757 222050] (raylet) file_system_monitor.cc:111: /tmp/ray/session_2024-02-21_10-01-42_582128_72639 is over 95% full, available space: 8820731904; capacity: 245107195904. Object creation will fail if spilling is required.\n"
     ]
    },
    {
     "name": "stdout",
     "output_type": "stream",
     "text": [
      " 92/313 [=======>......................] - ETA: 0s - loss: 0.4406 - accuracy: 0.8448\n",
      "136/313 [============>.................] - ETA: 0s - loss: 0.4608 - accuracy: 0.8410\n",
      "232/313 [=====================>........] - ETA: 0s - loss: 0.4608 - accuracy: 0.8374\n",
      "285/313 [==========================>...] - ETA: 0s - loss: 0.4563 - accuracy: 0.8382\n",
      "  1/313 [..............................] - ETA: 1:24 - loss: 0.4536 - accuracy: 0.8438\u001b[32m [repeated 2x across cluster]\u001b[0m\n",
      " 54/313 [====>.........................] - ETA: 0s - loss: 0.3852 - accuracy: 0.8588 \n",
      "135/313 [===========>..................] - ETA: 0s - loss: 0.4106 - accuracy: 0.8505\u001b[32m [repeated 2x across cluster]\u001b[0m\n",
      "177/313 [===============>..............] - ETA: 0s - loss: 0.4343 - accuracy: 0.8400\n",
      "111/313 [=========>....................] - ETA: 0s - loss: 0.4203 - accuracy: 0.8488\n",
      "226/313 [====================>.........] - ETA: 0s - loss: 0.4202 - accuracy: 0.8455\n",
      "313/313 [==============================] - 1s 2ms/step - loss: 0.4562 - accuracy: 0.8381\u001b[32m [repeated 2x across cluster]\u001b[0m\n",
      "313/313 [==============================] - 0s 890us/step - loss: 0.4157 - accuracy: 0.8448\n",
      " 28/313 [=>............................] - ETA: 0s - loss: 0.4006 - accuracy: 0.8717  \n",
      "185/313 [================>.............] - ETA: 0s - loss: 0.4605 - accuracy: 0.8405\n",
      "103/313 [========>.....................] - ETA: 0s - loss: 0.4045 - accuracy: 0.8629\n",
      "162/313 [==============>...............] - ETA: 0s - loss: 0.4016 - accuracy: 0.8596\n"
     ]
    },
    {
     "name": "stderr",
     "output_type": "stream",
     "text": [
      "2024-02-21 10:06:49,839\tINFO tune.py:1042 -- Total run time: 167.63 seconds (164.70 seconds for the tuning loop).\n"
     ]
    },
    {
     "name": "stdout",
     "output_type": "stream",
     "text": [
      "\u001b[36m(train_model pid=72808)\u001b[0m \b\b\b\b\b\b\b\b\b\b\b\b\b\b\b\b\b\b\b\b\b\b\b\b\b\b\b\b\b\b\b\b\b\b\b\b\b\b\b\b\b\b\b\b\b\b\b\b\b\b\b\b\b\b\b\b\b\b\b\b\b\b\b\b\b\b\b\b\b\b\b\b\b\b\b\b\b\b\b\b\b\b\b\b\r\n",
      "248/313 [======================>.......] - ETA: 0s - loss: 0.4005 - accuracy: 0.8582\b\b\b\b\b\b\b\b\b\b\b\b\b\b\b\b\b\b\b\b\b\b\b\b\b\b\b\b\b\b\b\b\b\b\b\b\b\b\b\b\b\b\b\b\b\b\b\b\b\b\b\b\b\b\b\b\b\b\b\b\b\b\b\b\b\b\b\b\b\b\b\b\b\b\b\b\b\b\b\b\b\b\b\b\r\n",
      "313/313 [==============================] - 0s 606us/step - loss: 0.3991 - accuracy: 0.8572\n"
     ]
    }
   ],
   "source": [
    "# Run hyperparameter tuning\n",
    "analysis = tune.run(\n",
    "    train_model,\n",
    "    config=search_space,\n",
    "    num_samples=16,\n",
    "    metric=\"test_accuracy\",\n",
    "    mode=\"max\",\n",
    "    verbose=1,\n",
    ")"
   ]
  },
  {
   "cell_type": "code",
   "execution_count": 8,
   "metadata": {
    "id": "RgUHMkiSDKZj",
    "outputId": "88b1f24e-23bf-42b4-f9b4-38e5512d009d"
   },
   "outputs": [
    {
     "name": "stdout",
     "output_type": "stream",
     "text": [
      "Best hyperparameters: {'units_1': 256, 'dropouts_1': 0.22178427944897347, 'units_2': 64, 'dropouts_2': 0.4947626120281921}\n",
      "Best mean accuracy: 0.857200026512146\n"
     ]
    },
    {
     "name": "stderr",
     "output_type": "stream",
     "text": [
      "\u001b[33m(raylet)\u001b[0m [2024-02-21 10:06:56,563 E 72757 222050] (raylet) file_system_monitor.cc:111: /tmp/ray/session_2024-02-21_10-01-42_582128_72639 is over 95% full, available space: 10972835840; capacity: 245107195904. Object creation will fail if spilling is required.\n",
      "\u001b[33m(raylet)\u001b[0m [2024-02-21 10:07:06,565 E 72757 222050] (raylet) file_system_monitor.cc:111: /tmp/ray/session_2024-02-21_10-01-42_582128_72639 is over 95% full, available space: 10972864512; capacity: 245107195904. Object creation will fail if spilling is required.\n",
      "\u001b[33m(raylet)\u001b[0m [2024-02-21 10:07:16,566 E 72757 222050] (raylet) file_system_monitor.cc:111: /tmp/ray/session_2024-02-21_10-01-42_582128_72639 is over 95% full, available space: 10972073984; capacity: 245107195904. Object creation will fail if spilling is required.\n",
      "\u001b[33m(raylet)\u001b[0m [2024-02-21 10:07:26,568 E 72757 222050] (raylet) file_system_monitor.cc:111: /tmp/ray/session_2024-02-21_10-01-42_582128_72639 is over 95% full, available space: 10972073984; capacity: 245107195904. Object creation will fail if spilling is required.\n",
      "\u001b[33m(raylet)\u001b[0m [2024-02-21 10:07:36,572 E 72757 222050] (raylet) file_system_monitor.cc:111: /tmp/ray/session_2024-02-21_10-01-42_582128_72639 is over 95% full, available space: 10972090368; capacity: 245107195904. Object creation will fail if spilling is required.\n",
      "\u001b[33m(raylet)\u001b[0m [2024-02-21 10:07:46,572 E 72757 222050] (raylet) file_system_monitor.cc:111: /tmp/ray/session_2024-02-21_10-01-42_582128_72639 is over 95% full, available space: 10971447296; capacity: 245107195904. Object creation will fail if spilling is required.\n",
      "\u001b[33m(raylet)\u001b[0m [2024-02-21 10:07:56,666 E 72757 222050] (raylet) file_system_monitor.cc:111: /tmp/ray/session_2024-02-21_10-01-42_582128_72639 is over 95% full, available space: 10971443200; capacity: 245107195904. Object creation will fail if spilling is required.\n",
      "\u001b[33m(raylet)\u001b[0m [2024-02-21 10:08:06,670 E 72757 222050] (raylet) file_system_monitor.cc:111: /tmp/ray/session_2024-02-21_10-01-42_582128_72639 is over 95% full, available space: 10971488256; capacity: 245107195904. Object creation will fail if spilling is required.\n",
      "\u001b[33m(raylet)\u001b[0m [2024-02-21 10:08:16,674 E 72757 222050] (raylet) file_system_monitor.cc:111: /tmp/ray/session_2024-02-21_10-01-42_582128_72639 is over 95% full, available space: 10970648576; capacity: 245107195904. Object creation will fail if spilling is required.\n",
      "\u001b[33m(raylet)\u001b[0m [2024-02-21 10:08:26,674 E 72757 222050] (raylet) file_system_monitor.cc:111: /tmp/ray/session_2024-02-21_10-01-42_582128_72639 is over 95% full, available space: 10955530240; capacity: 245107195904. Object creation will fail if spilling is required.\n",
      "\u001b[33m(raylet)\u001b[0m [2024-02-21 10:08:36,770 E 72757 222050] (raylet) file_system_monitor.cc:111: /tmp/ray/session_2024-02-21_10-01-42_582128_72639 is over 95% full, available space: 10955546624; capacity: 245107195904. Object creation will fail if spilling is required.\n",
      "\u001b[33m(raylet)\u001b[0m [2024-02-21 10:08:46,871 E 72757 222050] (raylet) file_system_monitor.cc:111: /tmp/ray/session_2024-02-21_10-01-42_582128_72639 is over 95% full, available space: 10955153408; capacity: 245107195904. Object creation will fail if spilling is required.\n",
      "\u001b[33m(raylet)\u001b[0m [2024-02-21 10:08:56,872 E 72757 222050] (raylet) file_system_monitor.cc:111: /tmp/ray/session_2024-02-21_10-01-42_582128_72639 is over 95% full, available space: 10955149312; capacity: 245107195904. Object creation will fail if spilling is required.\n"
     ]
    }
   ],
   "source": [
    "# Print the best hyperparameters and results\n",
    "config = analysis.best_config\n",
    "print(\"Best hyperparameters:\", analysis.best_config)\n",
    "print(\"Best mean accuracy:\", analysis.best_result[\"test_accuracy\"])"
   ]
  },
  {
   "cell_type": "code",
   "execution_count": 9,
   "metadata": {},
   "outputs": [
    {
     "name": "stderr",
     "output_type": "stream",
     "text": [
      "\u001b[33m(raylet)\u001b[0m [2024-02-21 10:17:05,119 E 72757 222050] (raylet) file_system_monitor.cc:111: /tmp/ray/session_2024-02-21_10-01-42_582128_72639 is over 95% full, available space: 10968444928; capacity: 245107195904. Object creation will fail if spilling is required.\n",
      "\u001b[33m(raylet)\u001b[0m [2024-02-21 10:17:15,119 E 72757 222050] (raylet) file_system_monitor.cc:111: /tmp/ray/session_2024-02-21_10-01-42_582128_72639 is over 95% full, available space: 10968002560; capacity: 245107195904. Object creation will fail if spilling is required.\n"
     ]
    }
   ],
   "source": [
    "from fashionmnist_model import FMM"
   ]
  },
  {
   "cell_type": "code",
   "execution_count": 10,
   "metadata": {},
   "outputs": [
    {
     "name": "stderr",
     "output_type": "stream",
     "text": [
      "WARNING:absl:At this time, the v2.11+ optimizer `tf.keras.optimizers.Adam` runs slowly on M1/M2 Macs, please use the legacy Keras optimizer instead, located at `tf.keras.optimizers.legacy.Adam`.\n"
     ]
    },
    {
     "name": "stdout",
     "output_type": "stream",
     "text": [
      "Training with Adam optimizer...\n",
      "OPtimizer hyperparameters : {'name': 'Adam', 'weight_decay': None, 'clipnorm': None, 'global_clipnorm': None, 'clipvalue': None, 'use_ema': False, 'ema_momentum': 0.99, 'ema_overwrite_frequency': None, 'jit_compile': False, 'is_legacy_optimizer': False, 'learning_rate': 0.001, 'beta_1': 0.9, 'beta_2': 0.999, 'epsilon': 1e-07, 'amsgrad': False}.\n"
     ]
    },
    {
     "ename": "NameError",
     "evalue": "name 'X_train' is not defined",
     "output_type": "error",
     "traceback": [
      "\u001b[0;31m---------------------------------------------------------------------------\u001b[0m",
      "\u001b[0;31mNameError\u001b[0m                                 Traceback (most recent call last)",
      "Cell \u001b[0;32mIn[10], line 6\u001b[0m\n\u001b[1;32m      3\u001b[0m \u001b[38;5;28mprint\u001b[39m(\u001b[38;5;124mf\u001b[39m\u001b[38;5;124m\"\u001b[39m\u001b[38;5;124mTraining with \u001b[39m\u001b[38;5;132;01m{\u001b[39;00moptimizer\u001b[38;5;241m.\u001b[39m\u001b[38;5;18m__class__\u001b[39m\u001b[38;5;241m.\u001b[39m\u001b[38;5;18m__name__\u001b[39m\u001b[38;5;132;01m}\u001b[39;00m\u001b[38;5;124m optimizer...\u001b[39m\u001b[38;5;124m\"\u001b[39m)\n\u001b[1;32m      4\u001b[0m \u001b[38;5;28mprint\u001b[39m(\u001b[38;5;124mf\u001b[39m\u001b[38;5;124m\"\u001b[39m\u001b[38;5;124mOPtimizer hyperparameters : \u001b[39m\u001b[38;5;132;01m{\u001b[39;00moptimizer\u001b[38;5;241m.\u001b[39mget_config()\u001b[38;5;132;01m}\u001b[39;00m\u001b[38;5;124m.\u001b[39m\u001b[38;5;124m\"\u001b[39m)\n\u001b[1;32m      5\u001b[0m history, train_accuracy, val_accuracy \u001b[38;5;241m=\u001b[39m FMM\u001b[38;5;241m.\u001b[39mcompile_and_train(\n\u001b[0;32m----> 6\u001b[0m     model, X_train, y_train, X_test, y_test, optimizer\n\u001b[1;32m      7\u001b[0m )\n",
      "\u001b[0;31mNameError\u001b[0m: name 'X_train' is not defined"
     ]
    },
    {
     "name": "stderr",
     "output_type": "stream",
     "text": [
      "\u001b[33m(raylet)\u001b[0m [2024-02-21 10:17:25,217 E 72757 222050] (raylet) file_system_monitor.cc:111: /tmp/ray/session_2024-02-21_10-01-42_582128_72639 is over 95% full, available space: 10968002560; capacity: 245107195904. Object creation will fail if spilling is required.\n",
      "\u001b[33m(raylet)\u001b[0m [2024-02-21 10:17:35,313 E 72757 222050] (raylet) file_system_monitor.cc:111: /tmp/ray/session_2024-02-21_10-01-42_582128_72639 is over 95% full, available space: 10967998464; capacity: 245107195904. Object creation will fail if spilling is required.\n",
      "\u001b[33m(raylet)\u001b[0m [2024-02-21 10:17:45,410 E 72757 222050] (raylet) file_system_monitor.cc:111: /tmp/ray/session_2024-02-21_10-01-42_582128_72639 is over 95% full, available space: 10967932928; capacity: 245107195904. Object creation will fail if spilling is required.\n",
      "\u001b[33m(raylet)\u001b[0m [2024-02-21 10:17:55,505 E 72757 222050] (raylet) file_system_monitor.cc:111: /tmp/ray/session_2024-02-21_10-01-42_582128_72639 is over 95% full, available space: 10967949312; capacity: 245107195904. Object creation will fail if spilling is required.\n",
      "\u001b[33m(raylet)\u001b[0m [2024-02-21 10:18:05,596 E 72757 222050] (raylet) file_system_monitor.cc:111: /tmp/ray/session_2024-02-21_10-01-42_582128_72639 is over 95% full, available space: 10967871488; capacity: 245107195904. Object creation will fail if spilling is required.\n",
      "\u001b[33m(raylet)\u001b[0m [2024-02-21 10:18:15,599 E 72757 222050] (raylet) file_system_monitor.cc:111: /tmp/ray/session_2024-02-21_10-01-42_582128_72639 is over 95% full, available space: 10967871488; capacity: 245107195904. Object creation will fail if spilling is required.\n",
      "\u001b[33m(raylet)\u001b[0m [2024-02-21 10:18:25,601 E 72757 222050] (raylet) file_system_monitor.cc:111: /tmp/ray/session_2024-02-21_10-01-42_582128_72639 is over 95% full, available space: 10971885568; capacity: 245107195904. Object creation will fail if spilling is required.\n",
      "\u001b[33m(raylet)\u001b[0m [2024-02-21 10:18:35,601 E 72757 222050] (raylet) file_system_monitor.cc:111: /tmp/ray/session_2024-02-21_10-01-42_582128_72639 is over 95% full, available space: 10971885568; capacity: 245107195904. Object creation will fail if spilling is required.\n",
      "\u001b[33m(raylet)\u001b[0m [2024-02-21 10:18:45,698 E 72757 222050] (raylet) file_system_monitor.cc:111: /tmp/ray/session_2024-02-21_10-01-42_582128_72639 is over 95% full, available space: 10971115520; capacity: 245107195904. Object creation will fail if spilling is required.\n",
      "\u001b[33m(raylet)\u001b[0m [2024-02-21 10:18:55,799 E 72757 222050] (raylet) file_system_monitor.cc:111: /tmp/ray/session_2024-02-21_10-01-42_582128_72639 is over 95% full, available space: 10971066368; capacity: 245107195904. Object creation will fail if spilling is required.\n",
      "\u001b[33m(raylet)\u001b[0m [2024-02-21 10:19:05,893 E 72757 222050] (raylet) file_system_monitor.cc:111: /tmp/ray/session_2024-02-21_10-01-42_582128_72639 is over 95% full, available space: 10970972160; capacity: 245107195904. Object creation will fail if spilling is required.\n",
      "\u001b[33m(raylet)\u001b[0m [2024-02-21 10:19:15,894 E 72757 222050] (raylet) file_system_monitor.cc:111: /tmp/ray/session_2024-02-21_10-01-42_582128_72639 is over 95% full, available space: 10970886144; capacity: 245107195904. Object creation will fail if spilling is required.\n",
      "\u001b[33m(raylet)\u001b[0m [2024-02-21 10:19:25,994 E 72757 222050] (raylet) file_system_monitor.cc:111: /tmp/ray/session_2024-02-21_10-01-42_582128_72639 is over 95% full, available space: 10970923008; capacity: 245107195904. Object creation will fail if spilling is required.\n",
      "\u001b[33m(raylet)\u001b[0m [2024-02-21 10:19:35,996 E 72757 222050] (raylet) file_system_monitor.cc:111: /tmp/ray/session_2024-02-21_10-01-42_582128_72639 is over 95% full, available space: 10970923008; capacity: 245107195904. Object creation will fail if spilling is required.\n",
      "\u001b[33m(raylet)\u001b[0m [2024-02-21 10:19:45,998 E 72757 222050] (raylet) file_system_monitor.cc:111: /tmp/ray/session_2024-02-21_10-01-42_582128_72639 is over 95% full, available space: 10970169344; capacity: 245107195904. Object creation will fail if spilling is required.\n",
      "\u001b[33m(raylet)\u001b[0m [2024-02-21 10:19:56,098 E 72757 222050] (raylet) file_system_monitor.cc:111: /tmp/ray/session_2024-02-21_10-01-42_582128_72639 is over 95% full, available space: 10970181632; capacity: 245107195904. Object creation will fail if spilling is required.\n",
      "\u001b[33m(raylet)\u001b[0m [2024-02-21 10:20:06,099 E 72757 222050] (raylet) file_system_monitor.cc:111: /tmp/ray/session_2024-02-21_10-01-42_582128_72639 is over 95% full, available space: 10970193920; capacity: 245107195904. Object creation will fail if spilling is required.\n",
      "\u001b[33m(raylet)\u001b[0m [2024-02-21 10:20:16,102 E 72757 222050] (raylet) file_system_monitor.cc:111: /tmp/ray/session_2024-02-21_10-01-42_582128_72639 is over 95% full, available space: 10969083904; capacity: 245107195904. Object creation will fail if spilling is required.\n",
      "\u001b[33m(raylet)\u001b[0m [2024-02-21 10:20:26,202 E 72757 222050] (raylet) file_system_monitor.cc:111: /tmp/ray/session_2024-02-21_10-01-42_582128_72639 is over 95% full, available space: 10969096192; capacity: 245107195904. Object creation will fail if spilling is required.\n",
      "\u001b[33m(raylet)\u001b[0m [2024-02-21 10:20:36,296 E 72757 222050] (raylet) file_system_monitor.cc:111: /tmp/ray/session_2024-02-21_10-01-42_582128_72639 is over 95% full, available space: 10958688256; capacity: 245107195904. Object creation will fail if spilling is required.\n",
      "\u001b[33m(raylet)\u001b[0m [2024-02-21 10:20:46,393 E 72757 222050] (raylet) file_system_monitor.cc:111: /tmp/ray/session_2024-02-21_10-01-42_582128_72639 is over 95% full, available space: 10958516224; capacity: 245107195904. Object creation will fail if spilling is required.\n",
      "\u001b[33m(raylet)\u001b[0m [2024-02-21 10:20:56,492 E 72757 222050] (raylet) file_system_monitor.cc:111: /tmp/ray/session_2024-02-21_10-01-42_582128_72639 is over 95% full, available space: 10958041088; capacity: 245107195904. Object creation will fail if spilling is required.\n",
      "\u001b[33m(raylet)\u001b[0m [2024-02-21 10:21:06,591 E 72757 222050] (raylet) file_system_monitor.cc:111: /tmp/ray/session_2024-02-21_10-01-42_582128_72639 is over 95% full, available space: 10958114816; capacity: 245107195904. Object creation will fail if spilling is required.\n",
      "\u001b[33m(raylet)\u001b[0m [2024-02-21 10:21:16,592 E 72757 222050] (raylet) file_system_monitor.cc:111: /tmp/ray/session_2024-02-21_10-01-42_582128_72639 is over 95% full, available space: 10957856768; capacity: 245107195904. Object creation will fail if spilling is required.\n",
      "\u001b[33m(raylet)\u001b[0m [2024-02-21 10:21:26,594 E 72757 222050] (raylet) file_system_monitor.cc:111: /tmp/ray/session_2024-02-21_10-01-42_582128_72639 is over 95% full, available space: 10957860864; capacity: 245107195904. Object creation will fail if spilling is required.\n",
      "\u001b[33m(raylet)\u001b[0m [2024-02-21 10:21:36,694 E 72757 222050] (raylet) file_system_monitor.cc:111: /tmp/ray/session_2024-02-21_10-01-42_582128_72639 is over 95% full, available space: 10957869056; capacity: 245107195904. Object creation will fail if spilling is required.\n",
      "\u001b[33m(raylet)\u001b[0m [2024-02-21 10:21:46,791 E 72757 222050] (raylet) file_system_monitor.cc:111: /tmp/ray/session_2024-02-21_10-01-42_582128_72639 is over 95% full, available space: 10955522048; capacity: 245107195904. Object creation will fail if spilling is required.\n",
      "\u001b[33m(raylet)\u001b[0m [2024-02-21 10:21:56,889 E 72757 222050] (raylet) file_system_monitor.cc:111: /tmp/ray/session_2024-02-21_10-01-42_582128_72639 is over 95% full, available space: 10955526144; capacity: 245107195904. Object creation will fail if spilling is required.\n",
      "\u001b[33m(raylet)\u001b[0m [2024-02-21 10:22:06,890 E 72757 222050] (raylet) file_system_monitor.cc:111: /tmp/ray/session_2024-02-21_10-01-42_582128_72639 is over 95% full, available space: 10955595776; capacity: 245107195904. Object creation will fail if spilling is required.\n",
      "\u001b[33m(raylet)\u001b[0m [2024-02-21 10:22:16,897 E 72757 222050] (raylet) file_system_monitor.cc:111: /tmp/ray/session_2024-02-21_10-01-42_582128_72639 is over 95% full, available space: 10955608064; capacity: 245107195904. Object creation will fail if spilling is required.\n",
      "\u001b[33m(raylet)\u001b[0m [2024-02-21 10:22:26,902 E 72757 222050] (raylet) file_system_monitor.cc:111: /tmp/ray/session_2024-02-21_10-01-42_582128_72639 is over 95% full, available space: 10955608064; capacity: 245107195904. Object creation will fail if spilling is required.\n"
     ]
    },
    {
     "name": "stderr",
     "output_type": "stream",
     "text": [
      "\u001b[33m(raylet)\u001b[0m [2024-02-21 10:22:36,906 E 72757 222050] (raylet) file_system_monitor.cc:111: /tmp/ray/session_2024-02-21_10-01-42_582128_72639 is over 95% full, available space: 10955902976; capacity: 245107195904. Object creation will fail if spilling is required.\n"
     ]
    }
   ],
   "source": [
    "optimizer = tf.keras.optimizers.Adam()\n",
    "model = FMM.create_model()\n",
    "print(f\"Training with {optimizer.__class__.__name__} optimizer...\")\n",
    "print(f\"OPtimizer hyperparameters : {optimizer.get_config()}.\")\n",
    "history, train_accuracy, val_accuracy = FMM.compile_and_train(\n",
    "    model, X_train, y_train, X_test, y_test, optimizer\n",
    ")"
   ]
  },
  {
   "cell_type": "code",
   "execution_count": 31,
   "metadata": {},
   "outputs": [
    {
     "name": "stdout",
     "output_type": "stream",
     "text": [
      "313/313 - 0s - loss: 0.5853 - accuracy: 0.8647 - 216ms/epoch - 691us/step\n"
     ]
    },
    {
     "name": "stderr",
     "output_type": "stream",
     "text": [
      "\u001b[33m(raylet)\u001b[0m [2024-02-21 09:52:28,693 E 72083 203775] (raylet) file_system_monitor.cc:111: /tmp/ray/session_2024-02-21_09-36-14_670344_71400 is over 95% full, available space: 10919026688; capacity: 245107195904. Object creation will fail if spilling is required.\n"
     ]
    }
   ],
   "source": [
    "loss, accuracy = FMM.evaluate(model, X_test, y_test)"
   ]
  },
  {
   "cell_type": "code",
   "execution_count": 32,
   "metadata": {},
   "outputs": [
    {
     "name": "stdout",
     "output_type": "stream",
     "text": [
      "Training accuracy : 0.9009000062942505\n",
      "Validation accuracy : 0.8647000193595886\n",
      "Loss : 0.5852640867233276\n",
      "Accuracy : 0.8647000193595886\n"
     ]
    },
    {
     "name": "stderr",
     "output_type": "stream",
     "text": [
      "\u001b[33m(raylet)\u001b[0m [2024-02-21 09:52:38,696 E 72083 203775] (raylet) file_system_monitor.cc:111: /tmp/ray/session_2024-02-21_09-36-14_670344_71400 is over 95% full, available space: 10919018496; capacity: 245107195904. Object creation will fail if spilling is required.\n",
      "\u001b[33m(raylet)\u001b[0m [2024-02-21 09:52:48,701 E 72083 203775] (raylet) file_system_monitor.cc:111: /tmp/ray/session_2024-02-21_09-36-14_670344_71400 is over 95% full, available space: 10919018496; capacity: 245107195904. Object creation will fail if spilling is required.\n"
     ]
    }
   ],
   "source": [
    "print(f\"Training accuracy : {train_accuracy}\")\n",
    "print(f\"Validation accuracy : {val_accuracy}\")\n",
    "print(f\"Loss : {loss}\")\n",
    "print(f\"Accuracy : {accuracy}\")"
   ]
  },
  {
   "cell_type": "code",
   "execution_count": 33,
   "metadata": {},
   "outputs": [
    {
     "data": {
      "image/png": "[encoded data removed]",
      "text/plain": [
       "<Figure size 640x480 with 1 Axes>"
      ]
     },
     "metadata": {},
     "output_type": "display_data"
    },
    {
     "name": "stdout",
     "output_type": "stream",
     "text": [
      "----------------------------------------------------------------------------------------------------\n"
     ]
    },
    {
     "name": "stderr",
     "output_type": "stream",
     "text": [
      "\u001b[33m(raylet)\u001b[0m [2024-02-21 09:52:58,800 E 72083 203775] (raylet) file_system_monitor.cc:111: /tmp/ray/session_2024-02-21_09-36-14_670344_71400 is over 95% full, available space: 10919018496; capacity: 245107195904. Object creation will fail if spilling is required.\n"
     ]
    }
   ],
   "source": [
    "FMM.plot_history(history, optimizer)"
   ]
  },
  {
   "cell_type": "code",
   "execution_count": 3,
   "metadata": {},
   "outputs": [],
   "source": [
    "ray.shutdown()"
   ]
  },
  {
   "cell_type": "code",
   "execution_count": null,
   "metadata": {},
   "outputs": [],
   "source": []
  }
 ],
 "metadata": {
  "accelerator": "TPU",
  "colab": {
   "provenance": []
  },
  "kernelspec": {
   "display_name": "Python 3 (ipykernel)",
   "language": "python",
   "name": "python3"
  },
  "language_info": {
   "codemirror_mode": {
    "name": "ipython",
    "version": 3
   },
   "file_extension": ".py",
   "mimetype": "text/x-python",
   "name": "python",
   "nbconvert_exporter": "python",
   "pygments_lexer": "ipython3",
   "version": "3.11.5"
  }
 },
 "nbformat": 4,
 "nbformat_minor": 1
}
