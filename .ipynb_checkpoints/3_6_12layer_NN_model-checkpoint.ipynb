{
 "cells": [
  {
   "cell_type": "markdown",
   "id": "a451f06d",
   "metadata": {},
   "source": [
    "# This notebook shows the model accuracy for different layers 3, 6, and 12 without optimizers"
   ]
  },
  {
   "cell_type": "markdown",
   "id": "04a6802c",
   "metadata": {},
   "source": [
    "## 3 layer NN"
   ]
  },
  {
   "cell_type": "code",
   "execution_count": 1,
   "id": "da7714c4",
   "metadata": {},
   "outputs": [],
   "source": [
    "import tensorflow as tf \n",
    "from tensorflow import keras\n",
    "from keras.models import Sequential\n",
    "from keras.layers import Dense\n",
    "import numpy as np \n",
    "import matplotlib.pyplot as plt"
   ]
  },
  {
   "cell_type": "code",
   "execution_count": 2,
   "id": "83da48b7",
   "metadata": {},
   "outputs": [],
   "source": [
    "fashion_mnist = keras.datasets.fashion_mnist\n",
    "(train_images, train_labels), (test_images, test_labels) = fashion_mnist.load_data()\n",
    "# returns 4 numpy arrays: 2 training sets and 2 test sets\n",
    "\n",
    "# Training set: 60,000 images, Testing set: 10,000 images\n",
    "\n",
    "# class names are not included, need to create them to plot the images  \n",
    "class_names = ['T-shirt/top', 'Trouser', 'Pullover', 'Dress', 'Coat', 'Sandal', 'Shirt', 'Sneaker', 'Bag', 'Ankle boot']"
   ]
  },
  {
   "cell_type": "code",
   "execution_count": 3,
   "id": "37234fd6",
   "metadata": {},
   "outputs": [
    {
     "name": "stdout",
     "output_type": "stream",
     "text": [
      "train_images: (60000, 28, 28)\n",
      "test_images: (10000, 28, 28)\n"
     ]
    }
   ],
   "source": [
    "print(\"train_images:\", train_images.shape)\n",
    "print(\"test_images:\", test_images.shape)"
   ]
  },
  {
   "cell_type": "code",
   "execution_count": 4,
   "id": "74b81edd",
   "metadata": {},
   "outputs": [],
   "source": [
    "# scale the values to a range of 0 to 1 of both data sets\n",
    "train_images = train_images / 255.0\n",
    "test_images = test_images / 255.0"
   ]
  },
  {
   "cell_type": "code",
   "execution_count": 5,
   "id": "c1695264",
   "metadata": {},
   "outputs": [
    {
     "name": "stdout",
     "output_type": "stream",
     "text": [
      "Model: \"sequential\"\n",
      "_________________________________________________________________\n",
      " Layer (type)                Output Shape              Param #   \n",
      "=================================================================\n",
      " flatten (Flatten)           (None, 784)               0         \n",
      "                                                                 \n",
      " dense (Dense)               (None, 128)               100480    \n",
      "                                                                 \n",
      " dense_1 (Dense)             (None, 10)                1290      \n",
      "                                                                 \n",
      "=================================================================\n",
      "Total params: 101770 (397.54 KB)\n",
      "Trainable params: 101770 (397.54 KB)\n",
      "Non-trainable params: 0 (0.00 Byte)\n",
      "_________________________________________________________________\n"
     ]
    }
   ],
   "source": [
    "# Model a simple 3-layer neural network\n",
    "model_3 = keras.Sequential([\n",
    "    keras.layers.Flatten(input_shape=(28,28)),\n",
    "    keras.layers.Dense(128, activation=tf.nn.relu),\n",
    "    keras.layers.Dense(10, activation=tf.nn.softmax)\n",
    "])\n",
    "model_3.summary() "
   ]
  },
  {
   "cell_type": "code",
   "execution_count": 6,
   "id": "2db4d3b5",
   "metadata": {},
   "outputs": [],
   "source": [
    "# Step 2 - Compile the model\n",
    "model_3.compile(loss='sparse_categorical_crossentropy',\n",
    "              metrics=['accuracy'])\n"
   ]
  },
  {
   "cell_type": "code",
   "execution_count": 7,
   "id": "a0fc1a01",
   "metadata": {},
   "outputs": [
    {
     "name": "stdout",
     "output_type": "stream",
     "text": [
      "Epoch 1/20\n",
      "1500/1500 [==============================] - 7s 4ms/step - loss: 0.5259 - accuracy: 0.8120 - val_loss: 0.3970 - val_accuracy: 0.8597\n",
      "Epoch 2/20\n",
      "1500/1500 [==============================] - 7s 5ms/step - loss: 0.3860 - accuracy: 0.8597 - val_loss: 0.3965 - val_accuracy: 0.8542\n",
      "Epoch 3/20\n",
      "1500/1500 [==============================] - 8s 5ms/step - loss: 0.3489 - accuracy: 0.8740 - val_loss: 0.3705 - val_accuracy: 0.8734\n",
      "Epoch 4/20\n",
      "1500/1500 [==============================] - 7s 4ms/step - loss: 0.3303 - accuracy: 0.8829 - val_loss: 0.3832 - val_accuracy: 0.8659\n",
      "Epoch 5/20\n",
      "1500/1500 [==============================] - 8s 5ms/step - loss: 0.3139 - accuracy: 0.8882 - val_loss: 0.3807 - val_accuracy: 0.8643\n",
      "Epoch 6/20\n",
      "1500/1500 [==============================] - 6s 4ms/step - loss: 0.3024 - accuracy: 0.8917 - val_loss: 0.3633 - val_accuracy: 0.8826\n",
      "Epoch 7/20\n",
      "1500/1500 [==============================] - 5s 3ms/step - loss: 0.2914 - accuracy: 0.8968 - val_loss: 0.3426 - val_accuracy: 0.8866\n",
      "Epoch 8/20\n",
      "1500/1500 [==============================] - 5s 3ms/step - loss: 0.2853 - accuracy: 0.8985 - val_loss: 0.3733 - val_accuracy: 0.8795\n",
      "Epoch 9/20\n",
      "1500/1500 [==============================] - 6s 4ms/step - loss: 0.2778 - accuracy: 0.9022 - val_loss: 0.3914 - val_accuracy: 0.8747\n",
      "Epoch 10/20\n",
      "1500/1500 [==============================] - 6s 4ms/step - loss: 0.2705 - accuracy: 0.9044 - val_loss: 0.3712 - val_accuracy: 0.8814\n",
      "Epoch 11/20\n",
      "1500/1500 [==============================] - 5s 4ms/step - loss: 0.2641 - accuracy: 0.9070 - val_loss: 0.3745 - val_accuracy: 0.8880\n",
      "Epoch 12/20\n",
      "1500/1500 [==============================] - 6s 4ms/step - loss: 0.2591 - accuracy: 0.9103 - val_loss: 0.3924 - val_accuracy: 0.8824\n",
      "Epoch 13/20\n",
      "1500/1500 [==============================] - 5s 3ms/step - loss: 0.2535 - accuracy: 0.9116 - val_loss: 0.4126 - val_accuracy: 0.8788\n",
      "Epoch 14/20\n",
      "1500/1500 [==============================] - 7s 5ms/step - loss: 0.2468 - accuracy: 0.9129 - val_loss: 0.3972 - val_accuracy: 0.8828\n",
      "Epoch 15/20\n",
      "1500/1500 [==============================] - 6s 4ms/step - loss: 0.2414 - accuracy: 0.9161 - val_loss: 0.4532 - val_accuracy: 0.8796\n",
      "Epoch 16/20\n",
      "1500/1500 [==============================] - 6s 4ms/step - loss: 0.2403 - accuracy: 0.9170 - val_loss: 0.4164 - val_accuracy: 0.8853\n",
      "Epoch 17/20\n",
      "1500/1500 [==============================] - 6s 4ms/step - loss: 0.2342 - accuracy: 0.9192 - val_loss: 0.4107 - val_accuracy: 0.8856\n",
      "Epoch 18/20\n",
      "1500/1500 [==============================] - 5s 3ms/step - loss: 0.2277 - accuracy: 0.9207 - val_loss: 0.4145 - val_accuracy: 0.8832\n",
      "Epoch 19/20\n",
      "1500/1500 [==============================] - 7s 4ms/step - loss: 0.2222 - accuracy: 0.9229 - val_loss: 0.4321 - val_accuracy: 0.8807\n",
      "Epoch 20/20\n",
      "1500/1500 [==============================] - 7s 5ms/step - loss: 0.2200 - accuracy: 0.9241 - val_loss: 0.4556 - val_accuracy: 0.8782\n"
     ]
    },
    {
     "data": {
      "text/plain": [
       "<keras.src.callbacks.History at 0x1c8361c1a90>"
      ]
     },
     "execution_count": 7,
     "metadata": {},
     "output_type": "execute_result"
    }
   ],
   "source": [
    "# Train the model, by fitting it to the training data\n",
    "# 20 epochs, and split the training set into 80/20 for validation\n",
    "model_3.fit(train_images, train_labels, epochs=20, validation_split=0.2)"
   ]
  },
  {
   "cell_type": "code",
   "execution_count": 8,
   "id": "c5119c1d",
   "metadata": {},
   "outputs": [
    {
     "name": "stdout",
     "output_type": "stream",
     "text": [
      "313/313 [==============================] - 1s 3ms/step - loss: 0.5011 - accuracy: 0.8718\n",
      "Model - 3 layers - test loss: 50.10698437690735\n",
      "Model - 3 layers - test accuracy: 87.18000054359436\n"
     ]
    }
   ],
   "source": [
    "# Evaluate the model\n",
    "test_loss, test_acc = model_3.evaluate(test_images, test_labels)\n",
    "print(\"Model - 3 layers - test loss:\", test_loss * 100)\n",
    "print(\"Model - 3 layers - test accuracy:\", test_acc * 100)"
   ]
  },
  {
   "cell_type": "markdown",
   "id": "5e82d805",
   "metadata": {},
   "source": [
    "## 6 layer NN"
   ]
  },
  {
   "cell_type": "code",
   "execution_count": 9,
   "id": "ba47e635",
   "metadata": {},
   "outputs": [
    {
     "name": "stdout",
     "output_type": "stream",
     "text": [
      "Model: \"sequential_1\"\n",
      "_________________________________________________________________\n",
      " Layer (type)                Output Shape              Param #   \n",
      "=================================================================\n",
      " flatten_1 (Flatten)         (None, 784)               0         \n",
      "                                                                 \n",
      " dense_2 (Dense)             (None, 128)               100480    \n",
      "                                                                 \n",
      " dense_3 (Dense)             (None, 128)               16512     \n",
      "                                                                 \n",
      " dense_4 (Dense)             (None, 128)               16512     \n",
      "                                                                 \n",
      " dense_5 (Dense)             (None, 128)               16512     \n",
      "                                                                 \n",
      " dense_6 (Dense)             (None, 10)                1290      \n",
      "                                                                 \n",
      "=================================================================\n",
      "Total params: 151306 (591.04 KB)\n",
      "Trainable params: 151306 (591.04 KB)\n",
      "Non-trainable params: 0 (0.00 Byte)\n",
      "_________________________________________________________________\n"
     ]
    }
   ],
   "source": [
    "# Model a simple 6-layer neural network \n",
    "model_6 = keras.Sequential([\n",
    "    keras.layers.Flatten(input_shape=(28,28)),\n",
    "    keras.layers.Dense(128, activation=tf.nn.relu),\n",
    "    keras.layers.Dense(128, activation=tf.nn.relu),\n",
    "    keras.layers.Dense(128, activation=tf.nn.relu),\n",
    "    keras.layers.Dense(128, activation=tf.nn.relu),\n",
    "    keras.layers.Dense(10, activation=tf.nn.softmax)\n",
    "])\n",
    "model_6.summary() "
   ]
  },
  {
   "cell_type": "code",
   "execution_count": 10,
   "id": "0a20f92f",
   "metadata": {},
   "outputs": [],
   "source": [
    "model_6.compile(loss='sparse_categorical_crossentropy',\n",
    "              metrics=['accuracy'])"
   ]
  },
  {
   "cell_type": "code",
   "execution_count": 11,
   "id": "a4368f18",
   "metadata": {},
   "outputs": [
    {
     "name": "stdout",
     "output_type": "stream",
     "text": [
      "Epoch 1/20\n",
      "1500/1500 [==============================] - 8s 5ms/step - loss: 0.5403 - accuracy: 0.8021 - val_loss: 0.4114 - val_accuracy: 0.8500\n",
      "Epoch 2/20\n",
      "1500/1500 [==============================] - 8s 5ms/step - loss: 0.4009 - accuracy: 0.8569 - val_loss: 0.4503 - val_accuracy: 0.8504\n",
      "Epoch 3/20\n",
      "1500/1500 [==============================] - 8s 5ms/step - loss: 0.3777 - accuracy: 0.8658 - val_loss: 0.3715 - val_accuracy: 0.8692\n",
      "Epoch 4/20\n",
      "1500/1500 [==============================] - 9s 6ms/step - loss: 0.3660 - accuracy: 0.8705 - val_loss: 0.4046 - val_accuracy: 0.8712\n",
      "Epoch 5/20\n",
      "1500/1500 [==============================] - 8s 5ms/step - loss: 0.3610 - accuracy: 0.8749 - val_loss: 0.4362 - val_accuracy: 0.8611\n",
      "Epoch 6/20\n",
      "1500/1500 [==============================] - 8s 5ms/step - loss: 0.3644 - accuracy: 0.8757 - val_loss: 0.4450 - val_accuracy: 0.8623\n",
      "Epoch 7/20\n",
      "1500/1500 [==============================] - 6s 4ms/step - loss: 0.3604 - accuracy: 0.8772 - val_loss: 0.4185 - val_accuracy: 0.8681\n",
      "Epoch 8/20\n",
      "1500/1500 [==============================] - 7s 5ms/step - loss: 0.3650 - accuracy: 0.8779 - val_loss: 0.3904 - val_accuracy: 0.8717\n",
      "Epoch 9/20\n",
      "1500/1500 [==============================] - 7s 5ms/step - loss: 0.3572 - accuracy: 0.8798 - val_loss: 0.4463 - val_accuracy: 0.8760\n",
      "Epoch 10/20\n",
      "1500/1500 [==============================] - 7s 5ms/step - loss: 0.3596 - accuracy: 0.8797 - val_loss: 0.4925 - val_accuracy: 0.8580\n",
      "Epoch 11/20\n",
      "1500/1500 [==============================] - 7s 4ms/step - loss: 0.3517 - accuracy: 0.8818 - val_loss: 0.5169 - val_accuracy: 0.8702\n",
      "Epoch 12/20\n",
      "1500/1500 [==============================] - 7s 5ms/step - loss: 0.3517 - accuracy: 0.8827 - val_loss: 0.5212 - val_accuracy: 0.8601\n",
      "Epoch 13/20\n",
      "1500/1500 [==============================] - 6s 4ms/step - loss: 0.3544 - accuracy: 0.8830 - val_loss: 0.5381 - val_accuracy: 0.8264\n",
      "Epoch 14/20\n",
      "1500/1500 [==============================] - 8s 5ms/step - loss: 0.3427 - accuracy: 0.8869 - val_loss: 0.4558 - val_accuracy: 0.8650\n",
      "Epoch 15/20\n",
      "1500/1500 [==============================] - 8s 6ms/step - loss: 0.3469 - accuracy: 0.8847 - val_loss: 0.5657 - val_accuracy: 0.8661\n",
      "Epoch 16/20\n",
      "1500/1500 [==============================] - 7s 5ms/step - loss: 0.3439 - accuracy: 0.8879 - val_loss: 0.5162 - val_accuracy: 0.8737\n",
      "Epoch 17/20\n",
      "1500/1500 [==============================] - 8s 5ms/step - loss: 0.3405 - accuracy: 0.8882 - val_loss: 0.6553 - val_accuracy: 0.8648\n",
      "Epoch 18/20\n",
      "1500/1500 [==============================] - 7s 5ms/step - loss: 0.3396 - accuracy: 0.8886 - val_loss: 0.5878 - val_accuracy: 0.8728\n",
      "Epoch 19/20\n",
      "1500/1500 [==============================] - 9s 6ms/step - loss: 0.3399 - accuracy: 0.8902 - val_loss: 0.4852 - val_accuracy: 0.8782\n",
      "Epoch 20/20\n",
      "1500/1500 [==============================] - 9s 6ms/step - loss: 0.3340 - accuracy: 0.8911 - val_loss: 0.6011 - val_accuracy: 0.8618\n"
     ]
    },
    {
     "data": {
      "text/plain": [
       "<keras.src.callbacks.History at 0x1c839439e10>"
      ]
     },
     "execution_count": 11,
     "metadata": {},
     "output_type": "execute_result"
    }
   ],
   "source": [
    "#Train the NN-6 with 20 epochs \n",
    "model_6.fit(train_images, train_labels, epochs=20, validation_split=0.2)"
   ]
  },
  {
   "cell_type": "code",
   "execution_count": 12,
   "id": "174c5c49",
   "metadata": {},
   "outputs": [
    {
     "name": "stdout",
     "output_type": "stream",
     "text": [
      "313/313 [==============================] - 1s 3ms/step - loss: 0.6528 - accuracy: 0.8564\n",
      "Model - 6 layers - test loss: 65.28443098068237\n",
      "Model - 6 layers - test accuracy: 85.64000129699707\n"
     ]
    }
   ],
   "source": [
    "#Evaluate the model with test datasets\n",
    "test_loss, test_acc = model_6.evaluate(test_images, test_labels)\n",
    "print(\"Model - 6 layers - test loss:\", test_loss * 100)\n",
    "print(\"Model - 6 layers - test accuracy:\", test_acc * 100)"
   ]
  },
  {
   "cell_type": "markdown",
   "id": "1ee0924e",
   "metadata": {},
   "source": [
    "## 12 layer NN"
   ]
  },
  {
   "cell_type": "code",
   "execution_count": 13,
   "id": "f5317960",
   "metadata": {},
   "outputs": [
    {
     "name": "stdout",
     "output_type": "stream",
     "text": [
      "Model: \"sequential_2\"\n",
      "_________________________________________________________________\n",
      " Layer (type)                Output Shape              Param #   \n",
      "=================================================================\n",
      " flatten_2 (Flatten)         (None, 784)               0         \n",
      "                                                                 \n",
      " dense_7 (Dense)             (None, 128)               100480    \n",
      "                                                                 \n",
      " dense_8 (Dense)             (None, 128)               16512     \n",
      "                                                                 \n",
      " dense_9 (Dense)             (None, 128)               16512     \n",
      "                                                                 \n",
      " dense_10 (Dense)            (None, 128)               16512     \n",
      "                                                                 \n",
      " dense_11 (Dense)            (None, 128)               16512     \n",
      "                                                                 \n",
      " dense_12 (Dense)            (None, 128)               16512     \n",
      "                                                                 \n",
      " dense_13 (Dense)            (None, 128)               16512     \n",
      "                                                                 \n",
      " dense_14 (Dense)            (None, 128)               16512     \n",
      "                                                                 \n",
      " dense_15 (Dense)            (None, 128)               16512     \n",
      "                                                                 \n",
      " dense_16 (Dense)            (None, 128)               16512     \n",
      "                                                                 \n",
      " dense_17 (Dense)            (None, 10)                1290      \n",
      "                                                                 \n",
      "=================================================================\n",
      "Total params: 250378 (978.04 KB)\n",
      "Trainable params: 250378 (978.04 KB)\n",
      "Non-trainable params: 0 (0.00 Byte)\n",
      "_________________________________________________________________\n"
     ]
    }
   ],
   "source": [
    "# Model a simple 12-layer neural network \n",
    "model_12 = keras.Sequential([\n",
    "    keras.layers.Flatten(input_shape=(28,28)),\n",
    "    keras.layers.Dense(128, activation=tf.nn.relu),\n",
    "    keras.layers.Dense(128, activation=tf.nn.relu),\n",
    "    keras.layers.Dense(128, activation=tf.nn.relu),\n",
    "    keras.layers.Dense(128, activation=tf.nn.relu),\n",
    "    keras.layers.Dense(128, activation=tf.nn.relu),\n",
    "    keras.layers.Dense(128, activation=tf.nn.relu),\n",
    "    keras.layers.Dense(128, activation=tf.nn.relu),\n",
    "    keras.layers.Dense(128, activation=tf.nn.relu),\n",
    "    keras.layers.Dense(128, activation=tf.nn.relu),\n",
    "    keras.layers.Dense(128, activation=tf.nn.relu),\n",
    "    keras.layers.Dense(10, activation=tf.nn.softmax)\n",
    "])\n",
    "model_12.summary() \n"
   ]
  },
  {
   "cell_type": "code",
   "execution_count": 14,
   "id": "9a07d1d2",
   "metadata": {},
   "outputs": [],
   "source": [
    "model_12.compile(loss='sparse_categorical_crossentropy',\n",
    "              metrics=['accuracy'])"
   ]
  },
  {
   "cell_type": "code",
   "execution_count": 15,
   "id": "7c4f1eab",
   "metadata": {},
   "outputs": [
    {
     "name": "stdout",
     "output_type": "stream",
     "text": [
      "Epoch 1/20\n",
      "1500/1500 [==============================] - 10s 6ms/step - loss: 0.6748 - accuracy: 0.7489 - val_loss: 0.4785 - val_accuracy: 0.8234\n",
      "Epoch 2/20\n",
      "1500/1500 [==============================] - 9s 6ms/step - loss: 0.4637 - accuracy: 0.8378 - val_loss: 0.4706 - val_accuracy: 0.8378\n",
      "Epoch 3/20\n",
      "1500/1500 [==============================] - 10s 7ms/step - loss: 0.4298 - accuracy: 0.8537 - val_loss: 0.4253 - val_accuracy: 0.8491\n",
      "Epoch 4/20\n",
      "1500/1500 [==============================] - 9s 6ms/step - loss: 0.4105 - accuracy: 0.8599 - val_loss: 0.4255 - val_accuracy: 0.8533\n",
      "Epoch 5/20\n",
      "1500/1500 [==============================] - 12s 8ms/step - loss: 0.4044 - accuracy: 0.8660 - val_loss: 0.5151 - val_accuracy: 0.8354\n",
      "Epoch 6/20\n",
      "1500/1500 [==============================] - 11s 7ms/step - loss: 0.4066 - accuracy: 0.8667 - val_loss: 0.4363 - val_accuracy: 0.8607\n",
      "Epoch 7/20\n",
      "1500/1500 [==============================] - 10s 7ms/step - loss: 0.4028 - accuracy: 0.8672 - val_loss: 0.5076 - val_accuracy: 0.8582\n",
      "Epoch 8/20\n",
      "1500/1500 [==============================] - 10s 7ms/step - loss: 0.3962 - accuracy: 0.8710 - val_loss: 0.4397 - val_accuracy: 0.8623\n",
      "Epoch 9/20\n",
      "1500/1500 [==============================] - 10s 7ms/step - loss: 0.4059 - accuracy: 0.8681 - val_loss: 0.4687 - val_accuracy: 0.8645\n",
      "Epoch 10/20\n",
      "1500/1500 [==============================] - 10s 7ms/step - loss: 0.4050 - accuracy: 0.8698 - val_loss: 0.4258 - val_accuracy: 0.8728\n",
      "Epoch 11/20\n",
      "1500/1500 [==============================] - 10s 7ms/step - loss: 0.4016 - accuracy: 0.8713 - val_loss: 0.6445 - val_accuracy: 0.8656\n",
      "Epoch 12/20\n",
      "1500/1500 [==============================] - 10s 6ms/step - loss: 0.4151 - accuracy: 0.8693 - val_loss: 0.5116 - val_accuracy: 0.8685\n",
      "Epoch 13/20\n",
      "1500/1500 [==============================] - 10s 7ms/step - loss: 0.4208 - accuracy: 0.8707 - val_loss: 0.6108 - val_accuracy: 0.8270\n",
      "Epoch 14/20\n",
      "1500/1500 [==============================] - 10s 7ms/step - loss: 0.4286 - accuracy: 0.8688 - val_loss: 0.5627 - val_accuracy: 0.8558\n",
      "Epoch 15/20\n",
      "1500/1500 [==============================] - 10s 6ms/step - loss: 0.4339 - accuracy: 0.8691 - val_loss: 0.5363 - val_accuracy: 0.8614\n",
      "Epoch 16/20\n",
      "1500/1500 [==============================] - 11s 8ms/step - loss: 0.4353 - accuracy: 0.8683 - val_loss: 0.6284 - val_accuracy: 0.8372\n",
      "Epoch 17/20\n",
      "1500/1500 [==============================] - 11s 7ms/step - loss: 0.4326 - accuracy: 0.8690 - val_loss: 0.7249 - val_accuracy: 0.8582\n",
      "Epoch 18/20\n",
      "1500/1500 [==============================] - 10s 7ms/step - loss: 0.4451 - accuracy: 0.8673 - val_loss: 0.7432 - val_accuracy: 0.7865\n",
      "Epoch 19/20\n",
      "1500/1500 [==============================] - 10s 6ms/step - loss: 0.4753 - accuracy: 0.8619 - val_loss: 0.6199 - val_accuracy: 0.8695\n",
      "Epoch 20/20\n",
      "1500/1500 [==============================] - 9s 6ms/step - loss: 0.4854 - accuracy: 0.8601 - val_loss: 0.6826 - val_accuracy: 0.8183\n"
     ]
    },
    {
     "data": {
      "text/plain": [
       "<keras.src.callbacks.History at 0x1c839698f10>"
      ]
     },
     "execution_count": 15,
     "metadata": {},
     "output_type": "execute_result"
    }
   ],
   "source": [
    "#Train the NN-12 with 20 epochs \n",
    "model_12.fit(train_images, train_labels, epochs=20, validation_split=0.2)"
   ]
  },
  {
   "cell_type": "code",
   "execution_count": 16,
   "id": "03e88ec3",
   "metadata": {},
   "outputs": [
    {
     "name": "stdout",
     "output_type": "stream",
     "text": [
      "313/313 [==============================] - 1s 3ms/step - loss: 0.8148 - accuracy: 0.8131\n",
      "Model - 12 layers - test loss: 81.4795196056366\n",
      "Model - 12 layers - test accuracy: 81.30999803543091\n"
     ]
    }
   ],
   "source": [
    "#Evaluate the model\n",
    "test_loss, test_acc = model_12.evaluate(test_images, test_labels)\n",
    "print(\"Model - 12 layers - test loss:\", test_loss * 100)\n",
    "print(\"Model - 12 layers - test accuracy:\", test_acc * 100)"
   ]
  },
  {
   "cell_type": "markdown",
   "id": "7fbf6e15",
   "metadata": {},
   "source": [
    "# The accuracy from the different layers without optimizers\n",
    "\n",
    "We can see that layer 3 gave better accuracy compared to 6 and 12 but we need to try with optimizers and see if we can get a better accuracy from any.\n",
    "\n",
    "Also, increasing the epoch to 50 might help."
   ]
  },
  {
   "cell_type": "code",
   "execution_count": null,
   "id": "adb79ad8",
   "metadata": {},
   "outputs": [],
   "source": []
  }
 ],
 "metadata": {
  "kernelspec": {
   "display_name": "Python 3 (ipykernel)",
   "language": "python",
   "name": "python3"
  },
  "language_info": {
   "codemirror_mode": {
    "name": "ipython",
    "version": 3
   },
   "file_extension": ".py",
   "mimetype": "text/x-python",
   "name": "python",
   "nbconvert_exporter": "python",
   "pygments_lexer": "ipython3",
   "version": "3.11.4"
  }
 },
 "nbformat": 4,
 "nbformat_minor": 5
}
